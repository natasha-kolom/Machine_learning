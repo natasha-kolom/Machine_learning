{
 "cells": [
  {
   "cell_type": "markdown",
   "metadata": {
    "id": "KxRmdyv5CIZe"
   },
   "source": [
    "В цьому домашньому завданні ми реалізуємо логістичну регресію на `numpy`.\n",
    "Ці завдання допоможуть вам ґрунтовно засвоїти основні концепції логістичної регресії та реалізувати їх на практиці 🔥\n",
    "\n",
    "#### Завдання 1: Реалізація функції сигмоїди\n",
    "1. З використанням `numpy` напишіть функцію `sigmoid(z)` для обчислення значення сигмоїди згідно з формулою:\n",
    "   $$\n",
    "   \\sigma(z) = \\frac{1}{1 + e^{-z}}\n",
    "   $$\n",
    "2. Використовуючи цю функцію, обчисліть значення сигмоїди для наступних даних: $ z = [-2, -1, 0, 1, 2] $. Виведіть результат обчислень.\n"
   ]
  },
  {
   "cell_type": "code",
   "execution_count": 39,
   "metadata": {},
   "outputs": [],
   "source": [
    "import numpy as np\n",
    "import matplotlib.pyplot as plt"
   ]
  },
  {
   "cell_type": "code",
   "execution_count": 1,
   "metadata": {
    "id": "v9ilfXulL2wP"
   },
   "outputs": [],
   "source": [
    "def sigmoid(z):\n",
    "    return 1/(1+np.exp(-z))"
   ]
  },
  {
   "cell_type": "code",
   "execution_count": 3,
   "metadata": {},
   "outputs": [],
   "source": [
    "z=np.array([-2, -1, 0, 1, 2])"
   ]
  },
  {
   "cell_type": "code",
   "execution_count": 4,
   "metadata": {},
   "outputs": [
    {
     "data": {
      "text/plain": [
       "array([0.11920292, 0.26894142, 0.5       , 0.73105858, 0.88079708])"
      ]
     },
     "execution_count": 4,
     "metadata": {},
     "output_type": "execute_result"
    }
   ],
   "source": [
    "sigmoid(z)"
   ]
  },
  {
   "cell_type": "markdown",
   "metadata": {
    "id": "LVd_jCGNCR1F"
   },
   "source": [
    "\n",
    "\n",
    "#### Завдання 2: Реалізація функції гіпотези для логістичної регресії\n",
    "1. Напишіть функцію `hypothesis(theta, X)`, яка обчислює гіпотезу для логістичної регресії, використовуючи функцію сигмоїди. Формула гіпотези:\n",
    "   $$\n",
    "   h_\\theta(x) = \\sigma(\\theta^T x) = \\frac{1}{1 + e^{-\\theta^T x}}\n",
    "   $$\n",
    "2. Використайте функцію `hypothesis` для обчислення значень гіпотези для наступних даних:\n",
    "   \n",
    "   $\\theta = [0.5, -0.5]$\n",
    "   \n",
    "   $X = \\begin{bmatrix} 1 & 2 \\\\ 1 & -1 \\\\ 1 & 0 \\\\ 1 & 1 \\end{bmatrix}$\n",
    "\n",
    "  Виведіть результат обчислень.\n"
   ]
  },
  {
   "cell_type": "code",
   "execution_count": 10,
   "metadata": {
    "id": "dKDHv-YtL3TA",
    "scrolled": true
   },
   "outputs": [
    {
     "data": {
      "text/plain": [
       "array([0.37754067, 0.73105858, 0.62245933, 0.5       ])"
      ]
     },
     "execution_count": 10,
     "metadata": {},
     "output_type": "execute_result"
    }
   ],
   "source": [
    "theta = [0.5, -0.5]\n",
    "X = [[1, 2], [1, -1], [1, 0], [1, 1]]\n",
    "def hypothesis(theta, X):\n",
    "    matrix = np.dot(X, theta)\n",
    "    return sigmoid(matrix)\n",
    "\n",
    "hypothesis(theta, X)    "
   ]
  },
  {
   "cell_type": "markdown",
   "metadata": {
    "id": "0DM4xqZCL32i"
   },
   "source": [
    "#### Завдання 3: Реалізація функції для підрахунку градієнтів фукнції втрат\r\n",
    "1. Напишіть функцію `compute_gradient(theta, X, y)`, яка обчислює градієнти функції втрат для логістичної регресії. Формула для обчислення градієнта:\r\n",
    "   $$\r\n",
    "   \\frac{\\partial L(\\theta)}{\\partial \\theta_j} = \\frac{1}{m} \\sum_{i=1}^{m} \\left[ (h_\\theta(x^{(i)}) - y^{(i)}) x_j^{(i)} \\right]\r\n",
    "   $$\r\n",
    "2. Використайте функцію `compute_gradient` для обчислення градієнтів для наступних даних:\r\n",
    "\r\n",
    "  $\\theta = [0.5, -0.5]$\r\n",
    "\r\n",
    "  $X = \\begin{bmatrix} 1 & 2 \\\\ 1 & -1 \\\\ 1 & 0 \\\\ 1 & 1 \\end{bmatrix}$\r\n",
    "\r\n",
    "  $y = [1, 0, 1, 0]$\r\n",
    "\r\n",
    "  Виведіть результат обчислень."
   ]
  },
  {
   "cell_type": "code",
   "execution_count": 31,
   "metadata": {},
   "outputs": [],
   "source": [
    "def compute_gradient(theta, X, y):\n",
    "    return sum(np.dot((hypothesis(theta, X) - y), X))/len(X)"
   ]
  },
  {
   "cell_type": "code",
   "execution_count": 32,
   "metadata": {},
   "outputs": [
    {
     "data": {
      "text/plain": [
       "-0.31122966560092735"
      ]
     },
     "execution_count": 32,
     "metadata": {},
     "output_type": "execute_result"
    }
   ],
   "source": [
    "theta = [0.5, -0.5]\n",
    "y = np.array([1, 0, 1, 0])\n",
    "X = [[1, 2], [1, -1], [1, 0], [1, 1]]\n",
    "compute_gradient(theta, X, y)"
   ]
  },
  {
   "cell_type": "markdown",
   "metadata": {
    "id": "nOtJEtdnC1K9"
   },
   "source": [
    "\n",
    "#### Завдання 4: Реалізація повного батч градієнтного спуску\n",
    "\n",
    "**Задача:**\n",
    "1. Напишіть функцію `full_batch_gradient_descent(X, y, lr=0.1, epochs=100)`, яка реалізує алгоритм Full градієнтного спуску для логістичної регресії. Використовуйте такі формули:\n",
    "   - Гіпотеза: $ h_\\theta(x) = \\sigma(\\theta^T x) $\n",
    "   - Оновлення параметрів: $ \\theta_j := \\theta_j - \\alpha \\frac{\\partial L(\\theta)}{\\partial \\theta_j} $\n",
    "2. Використайте функцію `full_batch_gradient_descent` для обчислення параметрів моделі на наступних даних:\n",
    "\n",
    "  $X = \\begin{bmatrix} 1 & 2 \\\\ 1 & -1 \\\\ 1 & 0 \\\\ 1 & 1 \\end{bmatrix}$\n",
    "\n",
    "  $y = [1, 0, 1, 0]$\n",
    "\n",
    "  Увага! Матриця $X$ вже має стовпець одиниць і передбачається, що це. - стовпець для intercept - параметра зсуву.\n",
    "\n",
    "  Виведіть результат обчислень.\n"
   ]
  },
  {
   "cell_type": "code",
   "execution_count": 33,
   "metadata": {
    "id": "fHtUOTxXL4Yy"
   },
   "outputs": [],
   "source": [
    "def full_batch_gradient_descent(X, y, lr=0.1, epochs=100):\n",
    "    theta = [0.5, -0.5]\n",
    "    errors = []\n",
    "    for _ in range(epochs):\n",
    "        hyp = hypothesis(theta, X)\n",
    "        error = hyp - y\n",
    "        errors.append(sum(error**2))\n",
    "        gradient = compute_gradient(theta, X, y)\n",
    "        theta = theta - lr * gradient\n",
    "    return theta, errors  "
   ]
  },
  {
   "cell_type": "code",
   "execution_count": 35,
   "metadata": {},
   "outputs": [],
   "source": [
    "X = [[1,2], [1,-1], [1,0], [1,1]]\n",
    "y = np.array([1, 0, 1, 0])\n",
    "theta, errors = full_batch_gradient_descent(X, y)"
   ]
  },
  {
   "cell_type": "code",
   "execution_count": 36,
   "metadata": {},
   "outputs": [
    {
     "data": {
      "text/plain": [
       "array([ 0.86909086, -0.13090914])"
      ]
     },
     "execution_count": 36,
     "metadata": {},
     "output_type": "execute_result"
    }
   ],
   "source": [
    "theta"
   ]
  },
  {
   "cell_type": "code",
   "execution_count": 40,
   "metadata": {},
   "outputs": [
    {
     "data": {
      "image/png": "[encoded data removed]",
      "text/plain": [
       "<Figure size 640x480 with 1 Axes>"
      ]
     },
     "metadata": {},
     "output_type": "display_data"
    }
   ],
   "source": [
    "plt.plot(errors);"
   ]
  },
  {
   "cell_type": "markdown",
   "metadata": {
    "id": "E4iZV55cE5f3"
   },
   "source": [
    "#### Завдання 5. Обчислення точності моделі\n",
    "\n",
    "1. Напишіть функцію `predict_proba(theta, X)`, яка використовує знайдені параметри $\\theta$ для обчислення ймовірностей належності поточного прикладу з даних до класу $y=1$ на основі значень $\\sigma(\\theta^T x)$.\n",
    "\n",
    "2. Напишіть функцію `predict(theta, X, threshold=0.5)`, яка обчислює клас з передбаченої імовірності належності екземпляра до класу 1 з порогом 0.5. Тобто якщо ймовірність менше 0.5, то передбачаємо клас 0, інакше клас 1.\n",
    "\n",
    "3. Напишіть функцію `accuracy(y_true, y_pred)`, яка обчислює точність моделі, визначивши частку правильно передбачених класів.\n",
    "\n",
    "  Формула метрики Accuracy:\n",
    "  $$\n",
    "  \\text{Accuracy} = \\frac{\\sum_{i=1}^{m} I(\\hat{{y}^{(i)}} = y^{(i)})}{m}\n",
    "  $$\n",
    "\n",
    "  де $\\hat{{y}^{(i)}}$ - передбачене значення класу, $I$ - індикаторна функція (яка дорівнює 1, якщо умова виконується, і 0 - якщо ні), $m$ - кількість прикладів.\n",
    "\n",
    "4. Обчисліть з використанням даних в завданні 4 $X$, $y$ та обчислених коефіцієнтах $\\theta$ та виведіть на екран:\n",
    "  - передбачені моделлю імовірності належності кожного з екземплярів в матриці `X` до класу 1\n",
    "  - класи кожного екземпляра з матриці `X`\n",
    "  - точність моделі."
   ]
  },
  {
   "cell_type": "code",
   "execution_count": 43,
   "metadata": {
    "id": "qON93-GBL6Hd"
   },
   "outputs": [],
   "source": [
    "def predict_proba(theta, X):\n",
    "    return hypothesis(theta, X)"
   ]
  },
  {
   "cell_type": "code",
   "execution_count": 56,
   "metadata": {},
   "outputs": [
    {
     "data": {
      "text/plain": [
       "array([0.64731839, 0.73105858, 0.70455649, 0.67659812])"
      ]
     },
     "execution_count": 56,
     "metadata": {},
     "output_type": "execute_result"
    }
   ],
   "source": [
    "predict_proba(theta, X)"
   ]
  },
  {
   "cell_type": "code",
   "execution_count": 65,
   "metadata": {},
   "outputs": [],
   "source": [
    "def predict(theta, X, threshold=0.5):\n",
    "    hyp = hypothesis(theta, X)\n",
    "    probability = []\n",
    "    for i in hyp:\n",
    "        if i<threshold:\n",
    "            probability.append(0)\n",
    "        else:\n",
    "            probability.append(1)\n",
    "    return probability      \n",
    "        "
   ]
  },
  {
   "cell_type": "code",
   "execution_count": 67,
   "metadata": {},
   "outputs": [],
   "source": [
    "pred = predict(theta, X)"
   ]
  },
  {
   "cell_type": "code",
   "execution_count": 68,
   "metadata": {},
   "outputs": [
    {
     "data": {
      "text/plain": [
       "[1, 1, 1, 1]"
      ]
     },
     "execution_count": 68,
     "metadata": {},
     "output_type": "execute_result"
    }
   ],
   "source": [
    "pred"
   ]
  },
  {
   "cell_type": "code",
   "execution_count": 54,
   "metadata": {},
   "outputs": [],
   "source": [
    "def accuracy(y_true, y_pred):\n",
    "    m = len(y_true)\n",
    "    sum = 0\n",
    "    for i in range(m):\n",
    "        if y_true[i]==y_pred[i]:\n",
    "            sum += 1\n",
    "    return sum/m        \n",
    "            "
   ]
  },
  {
   "cell_type": "code",
   "execution_count": 69,
   "metadata": {},
   "outputs": [
    {
     "data": {
      "text/plain": [
       "0.5"
      ]
     },
     "execution_count": 69,
     "metadata": {},
     "output_type": "execute_result"
    }
   ],
   "source": [
    "accuracy(y, pred)"
   ]
  }
 ],
 "metadata": {
  "colab": {
   "provenance": []
  },
  "kernelspec": {
   "display_name": "Python 3 (ipykernel)",
   "language": "python",
   "name": "python3"
  },
  "language_info": {
   "codemirror_mode": {
    "name": "ipython",
    "version": 3
   },
   "file_extension": ".py",
   "mimetype": "text/x-python",
   "name": "python",
   "nbconvert_exporter": "python",
   "pygments_lexer": "ipython3",
   "version": "3.11.9"
  }
 },
 "nbformat": 4,
 "nbformat_minor": 4
}
