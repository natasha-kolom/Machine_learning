{
 "cells": [
  {
   "cell_type": "markdown",
   "metadata": {
    "id": "ID3uSQHkQJ2J"
   },
   "source": [
    "В цьому ДЗ потренуємось виконувати Z-тести для тестування гіпотез в різних задачах. Для коректної імплементації та інтерпретації тестів рекоемндую переглянути спершу документацію:\n",
    "\n",
    "https://www.statsmodels.org/dev/generated/statsmodels.stats.weightstats.ztest.html\n",
    "\n",
    "### Завдання 1: Z-тест для однієї вибірки\n",
    "\n",
    "**Мета**: Перевірити, чи середнє значення вибірки відрізняється від гіпотетичного середнього.\n",
    "\n",
    "**Припущення**: Середній ріст студентів університету вважається 170 см. Ми хочемо перевірити, чи середній ріст випадкової вибірки студентів істотно більший. Вибірка задана в змінній `heights`.\n",
    "\n",
    "Для виконання завдання імпортуйте метод для проведення `ztest`, виконайте Z-тест з Python, виведіть p-value і зробіть заключення, чи справдилось припущення про середній зріст студентів на рівні значущості 0.05?\n",
    "\n",
    "Використовуємо тут Z-тест, оскільки вибірка достатньо велика (більше 30 екземплярів) і можемо вважати, що її стандартне відхилення близьке до ст. відхилення генеральної сукупності, а значить - відоме."
   ]
  },
  {
   "cell_type": "code",
   "execution_count": 30,
   "metadata": {
    "id": "uTJEZPARYMd4"
   },
   "outputs": [],
   "source": [
    "import numpy as np\n",
    "from statsmodels.stats.weightstats import ztest, ttost_paired"
   ]
  },
  {
   "cell_type": "code",
   "execution_count": 1,
   "metadata": {
    "id": "TUYNSCDzRE7N"
   },
   "outputs": [],
   "source": [
    "heights = [174, 171, 175, 179, 170, 170, 179, 175, 169, 174, 169, 169, 173, 162, 163, 169, 166,\n",
    "           173, 167, 164, 179, 170, 172, 164, 169, 175, 169, 174, 169, 169, 173, 162, 177]"
   ]
  },
  {
   "cell_type": "code",
   "execution_count": 5,
   "metadata": {},
   "outputs": [],
   "source": [
    "!pip install statsmodels --quiet"
   ]
  },
  {
   "cell_type": "code",
   "execution_count": 7,
   "metadata": {},
   "outputs": [],
   "source": [
    "mean_heights = 170\n",
    "alpha = 0.05\n",
    "sample_size = len(heights)"
   ]
  },
  {
   "cell_type": "code",
   "execution_count": 8,
   "metadata": {},
   "outputs": [
    {
     "data": {
      "text/plain": [
       "33"
      ]
     },
     "execution_count": 8,
     "metadata": {},
     "output_type": "execute_result"
    }
   ],
   "source": [
    "sample_size"
   ]
  },
  {
   "cell_type": "code",
   "execution_count": 9,
   "metadata": {},
   "outputs": [],
   "source": [
    "ztest_Score, p_value = ztest(heights, value = mean_heights, alternative='larger')"
   ]
  },
  {
   "cell_type": "code",
   "execution_count": 10,
   "metadata": {},
   "outputs": [
    {
     "data": {
      "text/plain": [
       "(0.8482235371587619, 0.19815674571091746)"
      ]
     },
     "execution_count": 10,
     "metadata": {},
     "output_type": "execute_result"
    }
   ],
   "source": [
    "ztest_Score, p_value"
   ]
  },
  {
   "cell_type": "code",
   "execution_count": 11,
   "metadata": {},
   "outputs": [
    {
     "name": "stdout",
     "output_type": "stream",
     "text": [
      "Н0 не може бути відхилена.\n"
     ]
    }
   ],
   "source": [
    "if(p_value <  alpha):\n",
    "    print(\"Відхилити Н0.\")\n",
    "else:\n",
    "    print(\"Н0 не може бути відхилена.\")"
   ]
  },
  {
   "cell_type": "markdown",
   "metadata": {},
   "source": [
    "**Висновок**\n",
    "Так, як нульова гіпотеза не може бути відхилена, ми можемо стверджувати, що припущення, що середній зріст випадкової вибірки студентів істотно більший не вірне."
   ]
  },
  {
   "cell_type": "markdown",
   "metadata": {
    "id": "ga4iKM9kQa9Q"
   },
   "source": [
    "### Завдання 2: Z-тест для двох незалежних вибірок\n",
    "\n",
    "**Завдання 2.1.**\n",
    "\n",
    "**Мета**: Перевірити, чи існує статистична різниця між середніми оцінками двох груп студентів.\n",
    "\n",
    "**Припущення**: Група A отримала новий навчальний курс, а група B продовжувала зі стандартним курсом. Ми перевіряємо, чи є новий курс ефективнішим.\n",
    "\n",
    "Виконайте Z-тест з Python, виведіть p-value і зробіть заключення, чи справдилось припущення щодо студентів на рівні значущості 0.05?"
   ]
  },
  {
   "cell_type": "code",
   "execution_count": 12,
   "metadata": {
    "id": "SngJjNBJTgBp"
   },
   "outputs": [],
   "source": [
    "group_a_scores = [78.55, 72.25, 79.88, 75.  , 76.54, 74.99, 87.26, 77.93, 72.71,\n",
    "       82.11, 71.9 , 79.04, 68.2 , 71.36, 78.98, 81.69, 78.86, 77.42,\n",
    "       76.49, 70.61, 74.4 , 75.7 , 83.29, 79.72, 69.18, 79.62, 76.07,\n",
    "       74.62, 81.06, 83.15, 82.66, 73.8 , 76.45, 79.66, 82.88, 75.6 ,\n",
    "       77.07, 72.47, 72.02, 82.06]\n",
    "\n",
    "group_b_scores = [81.78, 74.64, 80.02, 76.81, 71.77, 76.81, 82.69, 74.82, 82.82,\n",
    "       61.9 , 79.11, 75.44, 73.5 , 75.46, 65.06, 73.9 , 76.79, 82.39,\n",
    "       72.41, 70.96, 72.49, 79.58, 76.64, 72.35, 77.57, 75.49, 79.84,\n",
    "       71.49, 73.36, 73.04, 67.68, 76.48, 76.31, 75.03, 73.83, 67.92,\n",
    "       72.9 , 73.29, 70.99, 74.19]"
   ]
  },
  {
   "cell_type": "code",
   "execution_count": 15,
   "metadata": {
    "id": "CvftCAEHYPKL"
   },
   "outputs": [
    {
     "data": {
      "text/plain": [
       "(77.08125, 74.73875000000001)"
      ]
     },
     "execution_count": 15,
     "metadata": {},
     "output_type": "execute_result"
    }
   ],
   "source": [
    "np.mean(group_a_scores), np.mean(group_b_scores)"
   ]
  },
  {
   "cell_type": "code",
   "execution_count": 18,
   "metadata": {},
   "outputs": [
    {
     "data": {
      "text/plain": [
       "(2.357354864751502, 0.009202824276264003)"
      ]
     },
     "execution_count": 18,
     "metadata": {},
     "output_type": "execute_result"
    }
   ],
   "source": [
    "ztest(group_a_scores, group_b_scores, value=0, alternative = 'larger')"
   ]
  },
  {
   "cell_type": "markdown",
   "metadata": {},
   "source": [
    "**Висновок**\n",
    "Статистика для двох вибірок z-критерію становить 2.3573, а відповідне p-value дорівнює 0.0092.\n",
    "Оскільки p-value < 0.05, у нас є достатньо доказів, щоб відкинути нульову гіпотезу. Іншими словами, новий курс є ефективнішим."
   ]
  },
  {
   "cell_type": "markdown",
   "metadata": {
    "id": "zOxz2tU0VpJM"
   },
   "source": [
    "**Завдання 2.2.**\n",
    "\n",
    "\n",
    "**Мета**: Побачити, як впливає розмір вибірок на результат тесту.\n",
    "\n",
    "**Завдання**: Уявіть, що з групи А ми маємо тільки перші 5 записів, а з групи В - усі. Таке могло статись, якщо ми вже маємо результати тестів учнів за попередньою програмою, а тести за новою програмою здали наразі лише 5 учнів і ми вирішили не чекати довше.\n",
    "Виберіть перші 5 записів для групи А і проведіть такий самий тест як в Завданні 2.1. Виведіть значення p-value. Зробіть висновок, який результат ви бачите щодо стат. значущості на рівні 0.05 для цього експерименту?"
   ]
  },
  {
   "cell_type": "code",
   "execution_count": 19,
   "metadata": {
    "id": "D9znE6liYQmP"
   },
   "outputs": [],
   "source": [
    "new_group_a_scores = group_a_scores[0:5]"
   ]
  },
  {
   "cell_type": "code",
   "execution_count": 21,
   "metadata": {},
   "outputs": [
    {
     "data": {
      "text/plain": [
       "(0.8167951030410814, 0.20702276559167)"
      ]
     },
     "execution_count": 21,
     "metadata": {},
     "output_type": "execute_result"
    }
   ],
   "source": [
    "ztest(new_group_a_scores, group_b_scores, value=0, alternative = 'larger')"
   ]
  },
  {
   "cell_type": "markdown",
   "metadata": {},
   "source": [
    "**Висновок**\n",
    "Статистика для двох вибірок z-критерію становить 0.8167, а відповідне p-value дорівнює 0.207.\n",
    "Оскільки p-value > 0.05, ми не можемо відхилити нульову гіпотезу, яка полягає в тому, що середні для обох груп рівні, в отже оцінки не змінились. Тобто ми не можемо стверджувати, що новий курс є ефективнішим."
   ]
  },
  {
   "cell_type": "markdown",
   "metadata": {
    "id": "3TcRHLLz0SLw"
   },
   "source": [
    "\n",
    "### Завдання 3\\*: Z-тест для двох **пов'язаних** вибірок\n",
    "\n",
    "**Мета**: Перевірити, чи вплинув тренінг на продуктивність працівників, коли всі справробітники проходили тренінг.\n",
    "\n",
    "**Припущення**: Наші працівники проходять однаковий тренінг, і ми хочемо з'ясувати, чи покращилися їхні показники після тренінгу на рівні значущості 0.05. Виконайте Z-тест з Python, виведіть p-value і зробіть заключення, чи поліпшились показники працівників на рівні значущості 0.05?\n",
    "\n",
    "Зверніть увагу, ці вибірки повʼязані між собою, значить не буде коректно виконати z-test між ними, натомість, ми можемо порівняти, чи різниця в результатах (продуктивності співробітників) є стат значущою."
   ]
  },
  {
   "cell_type": "code",
   "execution_count": 25,
   "metadata": {
    "id": "uxrjagJFW1GC"
   },
   "outputs": [],
   "source": [
    "before_training = [57.82, 37.63, 36.8 , 55.22, 52.97, 52.5 , 53.46, 43.2 , 52.32,\n",
    "       52.93, 42.86, 68.66, 54.74, 38.09, 56.57, 40.25, 57.87, 61.59,\n",
    "       41.79, 59.63, 54.13, 58.22, 68.97, 47.55, 42.46, 41.1 , 41.84,\n",
    "       49.23, 53.41, 52.77]\n",
    "\n",
    "after_training = [62.47, 40.66, 42.7 , 57.69, 61.41, 56.76, 54.75, 44.06, 56.29,\n",
    "       55.48, 47.28, 72.6 , 57.59, 39.39, 56.54, 42.36, 62.58, 65.01,\n",
    "       42.3 , 62.98, 57.9 , 59.45, 72.28, 50.66, 43.18, 44.82, 45.96,\n",
    "       54.4 , 58.52, 53.01]"
   ]
  },
  {
   "cell_type": "code",
   "execution_count": 27,
   "metadata": {},
   "outputs": [
    {
     "data": {
      "text/plain": [
       "(50.885999999999996, 54.03600000000001)"
      ]
     },
     "execution_count": 27,
     "metadata": {},
     "output_type": "execute_result"
    }
   ],
   "source": [
    "np.mean(before_training), np.mean(after_training)"
   ]
  },
  {
   "cell_type": "code",
   "execution_count": 29,
   "metadata": {
    "id": "NwCsN91OYSpN"
   },
   "outputs": [
    {
     "data": {
      "text/plain": [
       "(-1.3668871347639466, 0.9141696574376459)"
      ]
     },
     "execution_count": 29,
     "metadata": {},
     "output_type": "execute_result"
    }
   ],
   "source": [
    "ztest(before_training, after_training, value=0, alternative = 'larger')"
   ]
  },
  {
   "cell_type": "markdown",
   "metadata": {},
   "source": [
    "Висновок Статистика для двох вибірок z-критерію становить 0.8167, а відповідне p-value дорівнює 0.207. Оскільки p-value > 0.05, ми не можемо відхилити нульову гіпотезу, яка полягає в тому, що середні для обох груп рівні, в отже оцінки не змінились. Тобто ми не можемо стверджувати, що новий курс є ефективнішим."
   ]
  }
 ],
 "metadata": {
  "colab": {
   "provenance": []
  },
  "kernelspec": {
   "display_name": "Python 3 (ipykernel)",
   "language": "python",
   "name": "python3"
  },
  "language_info": {
   "codemirror_mode": {
    "name": "ipython",
    "version": 3
   },
   "file_extension": ".py",
   "mimetype": "text/x-python",
   "name": "python",
   "nbconvert_exporter": "python",
   "pygments_lexer": "ipython3",
   "version": "3.11.9"
  }
 },
 "nbformat": 4,
 "nbformat_minor": 4
}
