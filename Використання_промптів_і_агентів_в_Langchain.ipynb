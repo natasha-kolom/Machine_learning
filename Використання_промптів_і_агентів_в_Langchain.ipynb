{
  "nbformat": 4,
  "nbformat_minor": 0,
  "metadata": {
    "colab": {
      "provenance": [],
      "include_colab_link": true
    },
    "kernelspec": {
      "name": "python3",
      "display_name": "Python 3"
    },
    "language_info": {
      "name": "python"
    }
  },
  "cells": [
    {
      "cell_type": "markdown",
      "metadata": {
        "id": "view-in-github",
        "colab_type": "text"
      },
      "source": [
        "<a href=\"https://colab.research.google.com/github/natasha-kolom/Machine_learning/blob/main/%D0%92%D0%B8%D0%BA%D0%BE%D1%80%D0%B8%D1%81%D1%82%D0%B0%D0%BD%D0%BD%D1%8F_%D0%BF%D1%80%D0%BE%D0%BC%D0%BF%D1%82%D1%96%D0%B2_%D1%96_%D0%B0%D0%B3%D0%B5%D0%BD%D1%82%D1%96%D0%B2_%D0%B2_Langchain.ipynb\" target=\"_parent\"><img src=\"https://colab.research.google.com/assets/colab-badge.svg\" alt=\"Open In Colab\"/></a>"
      ]
    },
    {
      "cell_type": "markdown",
      "source": [
        "\n",
        "### Завдання 1: Виклик LLM з базовим промптом\n",
        "\n",
        "Створіть можливість викликати LLM зі звичайним текстовим промптом.\n",
        "\n",
        "Промпт має дозвляти отримати інформацію простою мовою на певну тему. В цьому завданні ми хочемо дізнатись про тему \"Квантові обчислення\".\n",
        "\n",
        "Відповідь моделі повинна містити визначення, ключові переваги та поточні дослідження в цій галузі.\n",
        "\n",
        "Обмежте відповідь до 200 символів і пропишіть в промпті аби відповідь була короткою (це зекономить Вам час і гроші на згенеровані токени).\n",
        "\n",
        "В якості LLM можна скористатись як моделлю з HugginFace (рекомендую Mistral), так і ChatGPT4 або ChatGPT3. В обох випадках треба імпортувати потрібну \"обгортку\" (тобто клас, який дозволить ініціювати модель) з LangChain для виклику LLM за API, а також зчитати особистий токен з файла, наприклад, `creds.json`, який розміщений у Вас локально і Ви НЕ здаєте його в ДЗ і НЕ комітите в git 😏\n",
        "\n",
        "Встановіть своє значення температури на свій розсуд (тут немає правильного чи неправильного значення) і напишіть, чому ви обрали саме таке значення для цього завдання.  \n",
        "\n",
        "Запити можна робити як українською, так і англійською - орієнтуйтесь на те, де і чи хочете ви потім лишити цей проєкт і відповідна яка мова буде пасувати більше. В розвʼязках промпти - українською."
      ],
      "metadata": {
        "id": "RMalK_oYR-X_"
      }
    },
    {
      "cell_type": "code",
      "source": [
        "!pip -q install langchain langchain_openai huggingface_hub openai"
      ],
      "metadata": {
        "colab": {
          "base_uri": "https://localhost:8080/"
        },
        "id": "Y5XeAtxflDRL",
        "outputId": "9b92eb0a-27bf-4d6d-e6aa-347b8df4d803"
      },
      "execution_count": 2,
      "outputs": [
        {
          "output_type": "stream",
          "name": "stdout",
          "text": [
            "\u001b[?25l   \u001b[90m━━━━━━━━━━━━━━━━━━━━━━━━━━━━━━━━━━━━━━━━\u001b[0m \u001b[32m0.0/50.4 kB\u001b[0m \u001b[31m?\u001b[0m eta \u001b[36m-:--:--\u001b[0m\r\u001b[2K   \u001b[90m━━━━━━━━━━━━━━━━━━━━━━━━━━━━━━━━━━━━━━━━\u001b[0m \u001b[32m50.4/50.4 kB\u001b[0m \u001b[31m3.9 MB/s\u001b[0m eta \u001b[36m0:00:00\u001b[0m\n",
            "\u001b[?25h\u001b[?25l   \u001b[90m━━━━━━━━━━━━━━━━━━━━━━━━━━━━━━━━━━━━━━━━\u001b[0m \u001b[32m0.0/408.7 kB\u001b[0m \u001b[31m?\u001b[0m eta \u001b[36m-:--:--\u001b[0m\r\u001b[2K   \u001b[90m━━━━━━━━━━━━━━━━━━━━━━━━━━━━━━━━━━━━━━━━\u001b[0m \u001b[32m408.7/408.7 kB\u001b[0m \u001b[31m15.7 MB/s\u001b[0m eta \u001b[36m0:00:00\u001b[0m\n",
            "\u001b[?25h\u001b[?25l   \u001b[90m━━━━━━━━━━━━━━━━━━━━━━━━━━━━━━━━━━━━━━━━\u001b[0m \u001b[32m0.0/1.2 MB\u001b[0m \u001b[31m?\u001b[0m eta \u001b[36m-:--:--\u001b[0m\r\u001b[2K   \u001b[90m━━━━━━━━━━━━━━━━━━━━━━━━━━━━━━━━━━━━━━━━\u001b[0m \u001b[32m1.2/1.2 MB\u001b[0m \u001b[31m48.4 MB/s\u001b[0m eta \u001b[36m0:00:00\u001b[0m\n",
            "\u001b[?25h"
          ]
        }
      ]
    },
    {
      "cell_type": "code",
      "source": [
        "! pip install -q langchain-huggingface"
      ],
      "metadata": {
        "id": "OxFvW2YhlRdg"
      },
      "execution_count": 4,
      "outputs": []
    },
    {
      "cell_type": "code",
      "source": [
        "from langchain_huggingface import HuggingFaceEndpoint"
      ],
      "metadata": {
        "id": "vT1ICe74cAUS"
      },
      "execution_count": 5,
      "outputs": []
    },
    {
      "cell_type": "code",
      "source": [
        "import os\n",
        "import json\n",
        "import os\n",
        "\n",
        "with open('creds.json') as file:\n",
        "  creds = json.load(file)"
      ],
      "metadata": {
        "id": "WA-zu7EjmFnh"
      },
      "execution_count": 9,
      "outputs": []
    },
    {
      "cell_type": "code",
      "source": [
        "os.environ[\"HF_TOKEN\"] = creds['HUGGINGFACEHUB_API_TOKEN']"
      ],
      "metadata": {
        "id": "Dcdh_LGEl-tR"
      },
      "execution_count": 10,
      "outputs": []
    },
    {
      "cell_type": "markdown",
      "source": [
        "**Observation:** We set the value of overal_temperature = 0.1 since we want the model to make clear definitions, not creative ones\n"
      ],
      "metadata": {
        "id": "S0cbpFmvzOYl"
      }
    },
    {
      "cell_type": "code",
      "source": [
        "overal_temperature = 0.1\n",
        "\n",
        "mistral = HuggingFaceEndpoint(\n",
        "    repo_id=\"mistralai/Mistral-7B-Instruct-v0.2\",\n",
        "    temperature=overal_temperature,\n",
        "    max_new_tokens=200\n",
        ")"
      ],
      "metadata": {
        "colab": {
          "base_uri": "https://localhost:8080/"
        },
        "id": "VWu42bM4nzt6",
        "outputId": "6aa09f61-5a8b-4e60-e752-1d616fab20d6"
      },
      "execution_count": 11,
      "outputs": [
        {
          "output_type": "stream",
          "name": "stdout",
          "text": [
            "The token has not been saved to the git credentials helper. Pass `add_to_git_credential=True` in this function directly or `--add-to-git-credential` if using via `huggingface-cli` if you want to set the git credential as well.\n",
            "Token is valid (permission: read).\n",
            "Your token has been saved to /root/.cache/huggingface/token\n",
            "Login successful\n"
          ]
        }
      ]
    },
    {
      "cell_type": "code",
      "source": [
        "request = \"What is the definition, key benefits and current research in the field of Quantum Computing? Make a short answer\"\n",
        "print(mistral.invoke(request))"
      ],
      "metadata": {
        "colab": {
          "base_uri": "https://localhost:8080/"
        },
        "id": "bOFuFWNroMB5",
        "outputId": "21d70d5d-824e-4de0-edfb-7f9e48c5702e"
      },
      "execution_count": 17,
      "outputs": [
        {
          "output_type": "stream",
          "name": "stdout",
          "text": [
            " for each question.\n",
            "\n",
            "Definition: Quantum computing is a type of computing that uses quantum-mechanical phenomena, such as superposition and entanglement, to perform operations on data. It has the potential to solve certain types of problems much faster than classical computers.\n",
            "\n",
            "Key benefits: The key benefits of quantum computing include the ability to perform certain calculations exponentially faster than classical computers, the potential to solve optimization problems more efficiently, and the ability to simulate quantum systems more accurately. These capabilities could have significant implications for fields such as materials science, chemistry, and machine learning.\n",
            "\n",
            "Current research: Current research in quantum computing is focused on developing practical quantum computers and algorithms. Companies such as IBM, Google, and Microsoft are leading the way in building quantum hardware, while researchers at universities and research institutions are developing new quantum algorithms and exploring the potential applications of quantum computing. Some of the current areas of research include quantum error correction, quantum machine learning, and quantum simulation.\n"
          ]
        }
      ]
    },
    {
      "cell_type": "markdown",
      "source": [
        "### Завдання 2: Створення параметризованого промпта для генерації тексту\n",
        "Тепер ми хочемо оновити попередній фукнціонал так, аби в промпт ми могли передавати тему як параметр. Для цього скористайтесь `PromptTemplate` з `langchain` і реалізуйте параметризований промпт та виклик моделі з ним.\n",
        "\n",
        "Запустіть оновлений функціонал (промпт + модел) для пояснень про теми\n",
        "- \"Баєсівські методи в машинному навчанні\"\n",
        "- \"Трансформери в машинному навчанні\"\n",
        "- \"Explainable AI\"\n",
        "\n",
        "Виведіть результати відпрацювання моделі на екран."
      ],
      "metadata": {
        "id": "UiIzV0UIS0GA"
      }
    },
    {
      "cell_type": "code",
      "source": [
        "from langchain.prompts import PromptTemplate"
      ],
      "metadata": {
        "id": "kcg7EfdNcBDq"
      },
      "execution_count": 13,
      "outputs": []
    },
    {
      "cell_type": "code",
      "source": [
        "prompt = PromptTemplate(\n",
        "    input_variables=[\"field\"],\n",
        "    template=\"What is the definition, key benefits and current research in the field of {field}? Give a short answer, without a detailed explanation.\",\n",
        ")"
      ],
      "metadata": {
        "id": "B2r2OWXGy7Rs"
      },
      "execution_count": 22,
      "outputs": []
    },
    {
      "cell_type": "code",
      "source": [
        "print(mistral.invoke(prompt.format(field=\"Bayesian methods in machine learning\")))"
      ],
      "metadata": {
        "colab": {
          "base_uri": "https://localhost:8080/"
        },
        "id": "48ir5vrOzyDz",
        "outputId": "4a9977c9-88a9-4923-d0f7-e051ed9e7134"
      },
      "execution_count": 23,
      "outputs": [
        {
          "output_type": "stream",
          "name": "stdout",
          "text": [
            "\n",
            "\n",
            "Bayesian methods in machine learning refer to statistical approaches that update the probability of a hypothesis based on new data, using Bayes' theorem. Key benefits include the ability to incorporate prior knowledge, handle uncertainty, and perform model selection. Current research focuses on developing more efficient algorithms, scaling to large datasets, and applying Bayesian methods to deep learning and other advanced machine learning techniques.\n",
            "\n",
            "Some recent advances in Bayesian methods include the use of variational inference for approximate inference, the development of deep neural networks with Bayesian priors, and the application of Bayesian methods to time series analysis and reinforce learning. These approaches have shown promising results in various applications, such as image recognition, natural language processing, and robotics.\n"
          ]
        }
      ]
    },
    {
      "cell_type": "code",
      "source": [
        "print(mistral.invoke(prompt.format(field=\"Transformers in machine learning\")))"
      ],
      "metadata": {
        "colab": {
          "base_uri": "https://localhost:8080/"
        },
        "id": "uh97EL1Zz8y0",
        "outputId": "f74b748b-86d3-48de-b51c-c50eb38c9d72"
      },
      "execution_count": 27,
      "outputs": [
        {
          "output_type": "stream",
          "name": "stdout",
          "text": [
            "\n",
            "\n",
            "Transformers are a type of neural network architecture introduced in the paper \"Attention is All You Need\" by Vaswani et al. in 2017. They are designed for sequence-to-sequence tasks, such as machine translation, and use self-attention mechanisms to process input sequences in parallel.\n",
            "\n",
            "Key benefits of Transformers include:\n",
            "\n",
            "1. Parallel processing: Transformers can process all input sequences in parallel, making them more efficient than recurrent neural networks (RNNs) and long short-term memory (LSTM) networks for long sequences.\n",
            "2. Improved accuracy: Transformers have achieved state-of-the-art results on various sequence-to-sequence tasks, such as machine translation and text summarization.\n",
            "3. Flexibility: Transformers can be used for various sequence-to-sequence tasks, such as translation, summarization, and question answering, with minimal modifications to\n"
          ]
        }
      ]
    },
    {
      "cell_type": "code",
      "source": [
        "print(mistral.invoke(prompt.format(field=\"Explainable AI\")))"
      ],
      "metadata": {
        "colab": {
          "base_uri": "https://localhost:8080/"
        },
        "id": "m5LNp6kK0YIo",
        "outputId": "cf70379d-b7f2-46dd-d9d3-2b0d0ade0421"
      },
      "execution_count": 26,
      "outputs": [
        {
          "output_type": "stream",
          "name": "stdout",
          "text": [
            "\n",
            "\n",
            "Explainable AI (XAI) refers to artificial intelligence systems that can provide clear and understandable explanations for their decision-making processes. The key benefits of XAI include increased transparency, trust, and accountability in AI systems, as well as the ability to identify and correct errors or biases. Current research in XAI focuses on developing methods for generating explanations, improving explanation quality, and integrating XAI into various AI applications, such as healthcare, finance, and education. Some popular approaches include rule-based systems, model-agnostic methods, and visualization techniques.\n"
          ]
        }
      ]
    },
    {
      "cell_type": "markdown",
      "source": [
        "\n",
        "\n",
        "### Завдання 3: Використання агента для автоматизації процесів\n",
        "Створіть агента, який допоможе автоматично шукати інформацію про останні наукові публікації в різних галузях. Наприклад, агент має знайти 5 останніх публікацій на тему штучного інтелекту.\n",
        "\n",
        "**Кроки:**\n",
        "1. Налаштуйте агента типу ReAct в LangChain для виконання автоматичних запитів.\n",
        "2. Створіть промпт, який спрямовує агента шукати інформацію в інтернеті або в базах даних наукових публікацій.\n",
        "3. Агент повинен видати список публікацій, кожна з яких містить назву, авторів і короткий опис.\n",
        "\n",
        "Для взаємодії з пошуком там необхідно створити `Tool`. В лекції ми використовували `serpapi`. Можна продовжити користуватись ним, або обрати інше АРІ для пошуку (вони в тому числі є безкоштовні). Перелік різних АРІ, доступних в langchain, і орієнтир по вартості запитів можна знайти в окремому документі [тут](https://hannapylieva.notion.site/API-12994835849480a69b2adf2b8441cbb3?pvs=4).\n",
        "\n",
        "Лишаю також нижче приклад використання одного з безкоштовних пошукових АРІ - DuckDuckGo (не потребує створення токена!)  - можливо він вам сподобається :)\n"
      ],
      "metadata": {
        "id": "m9UsL2gXSe-3"
      }
    },
    {
      "cell_type": "code",
      "source": [
        "!pip install -q google-search-results langchain-community langchain_experimental"
      ],
      "metadata": {
        "colab": {
          "base_uri": "https://localhost:8080/"
        },
        "id": "Nvze1ZnZ1Tl9",
        "outputId": "53c5ed9d-0bee-48c8-8145-8e0a3639ea16"
      },
      "execution_count": 28,
      "outputs": [
        {
          "output_type": "stream",
          "name": "stdout",
          "text": [
            "  Preparing metadata (setup.py) ... \u001b[?25l\u001b[?25hdone\n",
            "\u001b[2K   \u001b[90m━━━━━━━━━━━━━━━━━━━━━━━━━━━━━━━━━━━━━━━━\u001b[0m \u001b[32m2.4/2.4 MB\u001b[0m \u001b[31m35.9 MB/s\u001b[0m eta \u001b[36m0:00:00\u001b[0m\n",
            "\u001b[2K   \u001b[90m━━━━━━━━━━━━━━━━━━━━━━━━━━━━━━━━━━━━━━━━\u001b[0m \u001b[32m209.0/209.0 kB\u001b[0m \u001b[31m15.1 MB/s\u001b[0m eta \u001b[36m0:00:00\u001b[0m\n",
            "\u001b[2K   \u001b[90m━━━━━━━━━━━━━━━━━━━━━━━━━━━━━━━━━━━━━━━━\u001b[0m \u001b[32m1.0/1.0 MB\u001b[0m \u001b[31m49.2 MB/s\u001b[0m eta \u001b[36m0:00:00\u001b[0m\n",
            "\u001b[2K   \u001b[90m━━━━━━━━━━━━━━━━━━━━━━━━━━━━━━━━━━━━━━━━\u001b[0m \u001b[32m3.1/3.1 MB\u001b[0m \u001b[31m74.9 MB/s\u001b[0m eta \u001b[36m0:00:00\u001b[0m\n",
            "\u001b[2K   \u001b[90m━━━━━━━━━━━━━━━━━━━━━━━━━━━━━━━━━━━━━━━━\u001b[0m \u001b[32m49.5/49.5 kB\u001b[0m \u001b[31m3.7 MB/s\u001b[0m eta \u001b[36m0:00:00\u001b[0m\n",
            "\u001b[?25h  Building wheel for google-search-results (setup.py) ... \u001b[?25l\u001b[?25hdone\n"
          ]
        }
      ]
    },
    {
      "cell_type": "code",
      "source": [
        "from langchain.agents import Tool, AgentExecutor, AgentType, create_react_agent"
      ],
      "metadata": {
        "id": "5_SZfUPa1ZYV"
      },
      "execution_count": 29,
      "outputs": []
    },
    {
      "cell_type": "code",
      "source": [
        "!pip install -q langchain_community duckduckgo_search"
      ],
      "metadata": {
        "colab": {
          "base_uri": "https://localhost:8080/"
        },
        "id": "Jzj4PHP9XwH-",
        "outputId": "3df89dd4-2f2e-4169-a743-b17a5b44fbb4"
      },
      "execution_count": 30,
      "outputs": [
        {
          "output_type": "stream",
          "name": "stdout",
          "text": [
            "\u001b[?25l   \u001b[90m━━━━━━━━━━━━━━━━━━━━━━━━━━━━━━━━━━━━━━━━\u001b[0m \u001b[32m0.0/3.0 MB\u001b[0m \u001b[31m?\u001b[0m eta \u001b[36m-:--:--\u001b[0m\r\u001b[2K   \u001b[91m━━━━━━━━━━━━━━━━━━━━━━━━━━━━━━━━━━━━━━\u001b[0m\u001b[91m╸\u001b[0m\u001b[90m━\u001b[0m \u001b[32m2.9/3.0 MB\u001b[0m \u001b[31m86.4 MB/s\u001b[0m eta \u001b[36m0:00:01\u001b[0m\r\u001b[2K   \u001b[90m━━━━━━━━━━━━━━━━━━━━━━━━━━━━━━━━━━━━━━━━\u001b[0m \u001b[32m3.0/3.0 MB\u001b[0m \u001b[31m53.1 MB/s\u001b[0m eta \u001b[36m0:00:00\u001b[0m\n",
            "\u001b[?25h"
          ]
        }
      ]
    },
    {
      "cell_type": "code",
      "source": [
        "from langchain_community.tools import DuckDuckGoSearchRun\n",
        "from langchain.agents import load_tools\n",
        "from langchain import hub\n",
        "search = DuckDuckGoSearchRun()\n",
        "tools = [search]\n",
        "prompt = hub.pull(\"hwchase17/react\")"
      ],
      "metadata": {
        "colab": {
          "base_uri": "https://localhost:8080/"
        },
        "id": "p56AZ_SnXvTs",
        "outputId": "3342670f-cab6-46f5-becc-9e9da90e977b"
      },
      "execution_count": 34,
      "outputs": [
        {
          "output_type": "stream",
          "name": "stderr",
          "text": [
            "/usr/local/lib/python3.10/dist-packages/langsmith/client.py:354: LangSmithMissingAPIKeyWarning: API key must be provided when using hosted LangSmith API\n",
            "  warnings.warn(\n"
          ]
        }
      ]
    },
    {
      "cell_type": "code",
      "source": [
        "agent = create_react_agent(mistral, tools, prompt)"
      ],
      "metadata": {
        "id": "S4FieAa91syD"
      },
      "execution_count": 35,
      "outputs": []
    },
    {
      "cell_type": "code",
      "source": [
        "agent_executor = AgentExecutor(agent=agent, tools=tools, verbose=True)"
      ],
      "metadata": {
        "id": "60jZEitmcCiP"
      },
      "execution_count": 37,
      "outputs": []
    },
    {
      "cell_type": "code",
      "source": [
        "agent_executor.invoke({'input': \"Find the last 5 publications on artificial intelligence. Get a list of publications including title, author and short description.\"})"
      ],
      "metadata": {
        "colab": {
          "base_uri": "https://localhost:8080/"
        },
        "id": "pgFDpgUd5mxt",
        "outputId": "72880191-6001-4eaa-c42b-107e16a80455"
      },
      "execution_count": 38,
      "outputs": [
        {
          "output_type": "stream",
          "name": "stdout",
          "text": [
            "\n",
            "\n",
            "\u001b[1m> Entering new AgentExecutor chain...\u001b[0m\n",
            "\u001b[32;1m\u001b[1;3m I need to search for recent publications on artificial intelligence.\n",
            "Action: duckduckgo_search\n",
            "Action Input: recent publications artificial intelligence\n",
            "Observation\u001b[0m\u001b[36;1m\u001b[1;3mEarth observation (EO) is increasingly used for mapping and monitoring processes occurring at the surface of Earth. Data acquired by satellites nowadays allow us to have a global view, consistent in time, of the state of our forests, oceans, and growing urban areas. However, such a wealth of data has little value without appropriate processing chains able to convert the pixel values to ... Earth observation (EO), aiming at monitoring the state of planet Earth using remote sensing data, is critical for improving our daily lives and living environment. With a growing number of satellites in orbit, an increasing number of datasets with diverse sensors and research domains are being published to facilitate the research of the remote sensing community. This paper presents a ... Geospatial artificial intelligence (Geo-AI) methods have revolutionarily impacted earth observation and remote sensing. With the advancement of deep-learning algorithms and the availability of high-resolution geospatial data, significant strides have been made in geospatial artificial intelligence. Extreme heat, massive floods, and ever-longer droughts caused by climate change are intensifying in magnitude and intensity across the globe. Forests are threatened by increases in the average global temperature and human-driven economic activity. Artificial intelligence and Earth observation technologies present opportunities to improve environmental sustainability, promoting Sustainable ... Using artificial intelligence can help decipher this data, providing actionable insights and business cases. Earth observation (EO) by satellites, aircraft and ground-based sensors has for decades provided a rich stream of data for governments and businesses to take climate action and ensure sustainable growth.\u001b[0m\u001b[32;1m\u001b[1;3m3 out of the 5 publications are found in the first observation. I need to find the remaining 2.\n",
            "Action: duckduckgo_search\n",
            "Action Input: recent publications artificial intelligence 2\n",
            "Observation\u001b[0m\u001b[36;1m\u001b[1;3mThe use of AI coupled with low-cost, high-performance computing is set to do for EO data what large language models (LLMs) have done for text, as a new briefing paper produced in collaboration with Deloitte, The Catalytic Potential of Artificial Intelligence for Earth Observation, shows. This is making EO easier to understand and use, with ... Earth observation (EO) is increasingly used for mapping and monitoring processes occurring at the surface of Earth. Data acquired by satellites nowadays allow us to have a global view, consistent in time, of the state of our forests, oceans, and growing urban areas. However, such a wealth of data has little value without appropriate processing chains able to convert the pixel values to ... ESA's Director of Earth Observation Programs, Simonetta Cheli, commented, \"We are thrilled today to launch Φsat-2, which will demonstrate the transformative power of artificial intelligence in ... Geospatial artificial intelligence (Geo-AI) methods have revolutionarily impacted earth observation and remote sensing. With the advancement of deep-learning algorithms and the availability of high-resolution geospatial data, significant strides have been made in geospatial artificial intelligence. Artificial intelligence technologies have achieved remarkable successes and continue to show their value as backbones in scientific research and real-world applications.ESA's new Φsat-2 mission, launching in the coming weeks, will push the boundaries of AI for Earth observation - demonstrating the transformative potential of AI for space technology.\u001b[0m\u001b[32;1m\u001b[1;3m4 out of the 5 publications are found in the first and second observations. I need to find the last one.\n",
            "Action: duckduckgo_search\n",
            "Action Input: recent publications artificial intelligence 3\n",
            "Observation\u001b[0m\u001b[36;1m\u001b[1;3mGeospatial artificial intelligence (Geo-AI) methods have revolutionarily impacted earth observation and remote sensing. With the advancement of deep-learning algorithms and the availability of high-resolution geospatial data, significant strides have been made in geospatial artificial intelligence. Additionally, complex analysis combined with ... Earth observation (EO) is increasingly used for mapping and monitoring processes occurring at the surface of Earth. Data acquired by satellites nowadays allow us to have a global view, consistent in time, of the state of our forests, oceans, and growing urban areas. However, such a wealth of data has little value without appropriate processing chains able to convert the pixel values to ... Using artificial intelligence can help decipher this data, providing actionable insights and business cases. Earth observation (EO) by satellites, aircraft and ground-based sensors has for decades provided a rich stream of data for governments and businesses to take climate action and ensure sustainable growth. Extreme heat, massive floods, and ever-longer droughts caused by climate change are intensifying in magnitude and intensity across the globe. Forests are threatened by increases in the average global temperature and human-driven economic activity. Artificial intelligence and Earth observation technologies present opportunities to improve environmental sustainability, promoting Sustainable ... Artificial Intelligence and Earth Observation: On-Board Pre-processing, Data Compression and Image Selection ... Earth observation missions have progressively increased in recent years, providing easier access to space and the generation of incredible amounts of data; examples include the Copernicus missions, which produce 12 TB of data per day ...\u001b[0m\u001b[32;1m\u001b[1;3m5 out of the 5 publications are found in the first, second and third observations.\n",
            "Thought: I now know the final answer\n",
            "Final Answer: The last 5 publications on artificial intelligence in the field of Earth observation include:\n",
            "1. \"Geospatial artificial intelligence (Geo-AI) methods have revolutionarily impacted earth observation and remote sensing. With the advancement of deep-learning algorithms and the availability of high-resolution geospatial data, significant strides have been made in geospatial artificial intelligence.\"\n",
            "2. \"Earth observation (EO) is increasingly used for mapping and monitoring processes occurring at the surface of Earth. Data acquired by satellites nowadays allow us to have a global view, consistent in time, of the state of our forests, oceans, and growing urban areas. However, such a wealth of data has little value without appropriate processing chains able to convert the pixel values to meaningful information.\"\n",
            "3\u001b[0m\n",
            "\n",
            "\u001b[1m> Finished chain.\u001b[0m\n"
          ]
        },
        {
          "output_type": "execute_result",
          "data": {
            "text/plain": [
              "{'input': 'Find the last 5 publications on artificial intelligence. Get a list of publications including title, author and short description.',\n",
              " 'output': 'The last 5 publications on artificial intelligence in the field of Earth observation include:\\n1. \"Geospatial artificial intelligence (Geo-AI) methods have revolutionarily impacted earth observation and remote sensing. With the advancement of deep-learning algorithms and the availability of high-resolution geospatial data, significant strides have been made in geospatial artificial intelligence.\"\\n2. \"Earth observation (EO) is increasingly used for mapping and monitoring processes occurring at the surface of Earth. Data acquired by satellites nowadays allow us to have a global view, consistent in time, of the state of our forests, oceans, and growing urban areas. However, such a wealth of data has little value without appropriate processing chains able to convert the pixel values to meaningful information.\"\\n3'}"
            ]
          },
          "metadata": {},
          "execution_count": 38
        }
      ]
    },
    {
      "cell_type": "markdown",
      "source": [
        "\n",
        "\n",
        "### Завдання 4: Створення агента-помічника для вирішення бізнес-задач\n",
        "\n",
        "Створіть агента, який допомагає вирішувати задачі бізнес-аналітики. Агент має допомогти користувачу створити прогноз по продажам на наступний рік враховуючи рівень інфляції і погодні умови. Агент має вміти використовувати Python і ходити в інтернет аби отримати актуальні дані.\n",
        "\n",
        "**Кроки:**\n",
        "1. Налаштуйте агента, який працюватиме з аналітичними даними, заданими текстом. Користувач пише\n",
        "\n",
        "```\n",
        "Ми експортуємо апельсини з Бразилії. В 2021 експортували 200т, в 2022 - 190т, в 2023 - 210т, в 2024 який ще не закінчився - 220т. Зроби оцінку скільки ми зможемо експортувати апельсинів в 2025 враховуючи погодні умови в Бразилії і попит на апельсини в світі виходячи з економічної ситуації.\n",
        "```\n",
        "\n",
        "2. Створіть запит до агента, що містить чітке завдання – видати результат бізнес аналізу або написати, що він не може цього зробити і запит користувача (просто може бути все одним повідомлленням).\n",
        "\n",
        "3. Запустіть агента і проаналізуйте результати. Що можна покращити?\n"
      ],
      "metadata": {
        "id": "IOqujC6qY_NY"
      }
    },
    {
      "cell_type": "code",
      "execution_count": 44,
      "metadata": {
        "id": "UK6KA9PyRS0L",
        "colab": {
          "base_uri": "https://localhost:8080/"
        },
        "outputId": "18b202de-8866-4c25-d851-50d2ceccb2bd"
      },
      "outputs": [
        {
          "output_type": "stream",
          "name": "stdout",
          "text": [
            "\n",
            "\n",
            "\u001b[1m> Entering new AgentExecutor chain...\u001b[0m\n",
            "\u001b[32;1m\u001b[1;3m To estimate the orange exports for 2025, I would need to conduct a thorough business analysis, taking into account various factors such as weather conditions in Brazil, demand for oranges in the world, and economic situation. However, I don't have access to real-time data or advanced analytical tools to perform such an analysis. I can only provide an estimate based on the historical data given.\n",
            "Action: duckduckgo_search\n",
            "Action Input: \"Brazil orange exports forecast 2025\"\n",
            "Observation\u001b[0m\u001b[36;1m\u001b[1;3mTotal orange production 1 is updated at 215.78 million boxes. The first update of the 2024-2025 orange crop forecast for the São Paulo and West-Southwest Minas Gerais citrus belt, published by Fundecitrus, carried out in cooperation with Markestrat and full professors from FEA-RP/USP and FCAV/Unesp 2, is 215.78 million boxes of 40.8 kg.Of the total, 200.46 million boxes come from the first ... The 2024-2025 orange crop forecast for the São Paulo and West-Southwest Minas Gerais citrus belt by Fundecitrus in cooperation with Markestrat and full professors at FEA-RP/USP 1 and FCAV/Unesp 2, is 232.38 million boxes of 40.8 kg (90 lbs) each.This production is divided as follows (figures in parentheses indicate the drop in production as compared to the previous crop): Brazil: Citrus Annual. The Brazilian orange crop for Marketing Year (MY) 2023/24 is forecast at 408 million 40.8-kg boxes (MBx) - standard reference, equivalent to 16.5 million metric tons (MMT), a decrease of 1.03 percent compared to the estimate of current crop MY 2022/23 (around 412.3 million boxes or 16.67 MMT), due to the incidence of ... Brazil: Citrus Semi-annual. The Brazilian orange crop for Marketing Year (MY) 2023/24 is forecast at 378 million 90-pound boxes (MBx) - standard reference, equivalent to 15.42 million metric tons (MMT), a decrease of 7.3 percent compared to previous Post estimate (408 million boxes or 16.5 MMT), primarily due to poor weather conditions that ... Brazil's main orange producing areas in the states of Sao Paulo and Minas Gerais are set to harvest 232.38 million 40.8-kg boxes this year, Fundecitrus said, down 24.36% from the previous cycle.\u001b[0m\u001b[32;1m\u001b[1;3m\n",
            "Based on the historical data and the decrease in orange production in 2024 compared to 2023, it's reasonable to assume that orange exports in 2025 will also be lower than in 2023. However, without more specific information about the size of the decrease and the current economic situation, it's impossible to give an accurate estimate.\n",
            "Final Answer: I cannot provide an accurate estimate for Brazil's orange exports in 2025 based on the given information.</s>\u001b[0m\n",
            "\n",
            "\u001b[1m> Finished chain.\u001b[0m\n"
          ]
        },
        {
          "output_type": "execute_result",
          "data": {
            "text/plain": [
              "{'input': 'We export oranges from Brazil. In 2021, we exported 200 tonnes, in 2022 - 190 tonnes, in 2023 - 210 tonnes, in 2024, which has not yet ended, 220 tonnes. Estimate how much oranges we will be able to export in 2025, given the weather conditions in Brazil and the demand for oranges in the world based on the economic situation. Give the result of the business analysis or write that you cannot do it.',\n",
              " 'output': \"I cannot provide an accurate estimate for Brazil's orange exports in 2025 based on the given information.</s>\"}"
            ]
          },
          "metadata": {},
          "execution_count": 44
        }
      ],
      "source": [
        "agent = create_react_agent(mistral, tools, prompt)\n",
        "agent_executor = AgentExecutor(agent=agent, tools=tools, verbose=True)\n",
        "query = \"We export oranges from Brazil. In 2021, we exported 200 tonnes, in 2022 - 190 tonnes, in 2023 - 210 tonnes, in 2024, which has not yet ended, 220 tonnes. Estimate how much oranges we will be able to export in 2025, given the weather conditions in Brazil and the demand for oranges in the world based on the economic situation. Give the result of the business analysis or write that you cannot do it.\"\n",
        "agent_executor.invoke({'input':query})"
      ]
    },
    {
      "cell_type": "markdown",
      "source": [
        "**Observation** The model was unable to make a forecast for 2025, perhaps the chat gpt model would have done a better job"
      ],
      "metadata": {
        "id": "vse7UOa4Qx1j"
      }
    },
    {
      "cell_type": "code",
      "source": [],
      "metadata": {
        "id": "1szmj53oRHqN"
      },
      "execution_count": null,
      "outputs": []
    }
  ]
}