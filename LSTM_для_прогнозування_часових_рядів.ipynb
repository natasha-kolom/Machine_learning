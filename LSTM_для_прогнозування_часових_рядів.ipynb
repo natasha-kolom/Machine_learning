{
  "nbformat": 4,
  "nbformat_minor": 0,
  "metadata": {
    "colab": {
      "provenance": [],
      "include_colab_link": true
    },
    "kernelspec": {
      "name": "python3",
      "display_name": "Python 3"
    },
    "language_info": {
      "name": "python"
    }
  },
  "cells": [
    {
      "cell_type": "markdown",
      "metadata": {
        "id": "view-in-github",
        "colab_type": "text"
      },
      "source": [
        "<a href=\"https://colab.research.google.com/github/natasha-kolom/Machine_learning/blob/main/LSTM_%D0%B4%D0%BB%D1%8F_%D0%BF%D1%80%D0%BE%D0%B3%D0%BD%D0%BE%D0%B7%D1%83%D0%B2%D0%B0%D0%BD%D0%BD%D1%8F_%D1%87%D0%B0%D1%81%D0%BE%D0%B2%D0%B8%D1%85_%D1%80%D1%8F%D0%B4%D1%96%D0%B2.ipynb\" target=\"_parent\"><img src=\"https://colab.research.google.com/assets/colab-badge.svg\" alt=\"Open In Colab\"/></a>"
      ]
    },
    {
      "cell_type": "markdown",
      "source": [
        "Давайте подивимося, як LSTM можна використовувати для побудови нейронної мережі прогнозування часових.\n",
        "\n",
        "Будемо працювати з задачею прогнозування кількості пасажирів міжнародних авіаліній. З цим набором даних ми вже працювали в лекції \"Time Series Analysis\" і ви зможете порівняти результати :)\n",
        "\n",
        "Задача полягає в тому, щоб за заданими роком і місяцем передбачити кількість пасажирів міжнародних авіаліній в одиницях виміру 1,000. Дані охоплюють період з січня 1949 року по грудень 1960 року, тобто 12 років, зі 144 спостереженнями.\n",
        "\n",
        "Це регресійна задача. Тобто, знаючи кількість пасажирів (в тисячах) за останні місяці, можна передбачити, якою буде кількість пасажирів у наступному місяці. Набір даних має лише одну характеристику: \"Кількість пасажирів\" - `Passengers`.\n",
        "\n",
        "Далі вже наведений код для читання даних, але нам їх ще треба буде трошки обробити."
      ],
      "metadata": {
        "id": "QVNVsLwJvV9S"
      }
    },
    {
      "cell_type": "code",
      "execution_count": 55,
      "metadata": {
        "id": "hw3dGYsyluYm",
        "colab": {
          "base_uri": "https://localhost:8080/",
          "height": 238
        },
        "outputId": "ec460299-5971-46a4-9712-935eaddfcd4e"
      },
      "outputs": [
        {
          "output_type": "display_data",
          "data": {
            "text/plain": [
              "         Passengers\n",
              "Month              \n",
              "1949-01         112\n",
              "1949-02         118\n",
              "1949-03         132\n",
              "1949-04         129\n",
              "1949-05         121"
            ],
            "text/html": [
              "\n",
              "  <div id=\"df-cd0d0588-aebd-43b8-af43-a5c58e762dbe\" class=\"colab-df-container\">\n",
              "    <div>\n",
              "<style scoped>\n",
              "    .dataframe tbody tr th:only-of-type {\n",
              "        vertical-align: middle;\n",
              "    }\n",
              "\n",
              "    .dataframe tbody tr th {\n",
              "        vertical-align: top;\n",
              "    }\n",
              "\n",
              "    .dataframe thead th {\n",
              "        text-align: right;\n",
              "    }\n",
              "</style>\n",
              "<table border=\"1\" class=\"dataframe\">\n",
              "  <thead>\n",
              "    <tr style=\"text-align: right;\">\n",
              "      <th></th>\n",
              "      <th>Passengers</th>\n",
              "    </tr>\n",
              "    <tr>\n",
              "      <th>Month</th>\n",
              "      <th></th>\n",
              "    </tr>\n",
              "  </thead>\n",
              "  <tbody>\n",
              "    <tr>\n",
              "      <th>1949-01</th>\n",
              "      <td>112</td>\n",
              "    </tr>\n",
              "    <tr>\n",
              "      <th>1949-02</th>\n",
              "      <td>118</td>\n",
              "    </tr>\n",
              "    <tr>\n",
              "      <th>1949-03</th>\n",
              "      <td>132</td>\n",
              "    </tr>\n",
              "    <tr>\n",
              "      <th>1949-04</th>\n",
              "      <td>129</td>\n",
              "    </tr>\n",
              "    <tr>\n",
              "      <th>1949-05</th>\n",
              "      <td>121</td>\n",
              "    </tr>\n",
              "  </tbody>\n",
              "</table>\n",
              "</div>\n",
              "    <div class=\"colab-df-buttons\">\n",
              "\n",
              "  <div class=\"colab-df-container\">\n",
              "    <button class=\"colab-df-convert\" onclick=\"convertToInteractive('df-cd0d0588-aebd-43b8-af43-a5c58e762dbe')\"\n",
              "            title=\"Convert this dataframe to an interactive table.\"\n",
              "            style=\"display:none;\">\n",
              "\n",
              "  <svg xmlns=\"http://www.w3.org/2000/svg\" height=\"24px\" viewBox=\"0 -960 960 960\">\n",
              "    <path d=\"M120-120v-720h720v720H120Zm60-500h600v-160H180v160Zm220 220h160v-160H400v160Zm0 220h160v-160H400v160ZM180-400h160v-160H180v160Zm440 0h160v-160H620v160ZM180-180h160v-160H180v160Zm440 0h160v-160H620v160Z\"/>\n",
              "  </svg>\n",
              "    </button>\n",
              "\n",
              "  <style>\n",
              "    .colab-df-container {\n",
              "      display:flex;\n",
              "      gap: 12px;\n",
              "    }\n",
              "\n",
              "    .colab-df-convert {\n",
              "      background-color: #E8F0FE;\n",
              "      border: none;\n",
              "      border-radius: 50%;\n",
              "      cursor: pointer;\n",
              "      display: none;\n",
              "      fill: #1967D2;\n",
              "      height: 32px;\n",
              "      padding: 0 0 0 0;\n",
              "      width: 32px;\n",
              "    }\n",
              "\n",
              "    .colab-df-convert:hover {\n",
              "      background-color: #E2EBFA;\n",
              "      box-shadow: 0px 1px 2px rgba(60, 64, 67, 0.3), 0px 1px 3px 1px rgba(60, 64, 67, 0.15);\n",
              "      fill: #174EA6;\n",
              "    }\n",
              "\n",
              "    .colab-df-buttons div {\n",
              "      margin-bottom: 4px;\n",
              "    }\n",
              "\n",
              "    [theme=dark] .colab-df-convert {\n",
              "      background-color: #3B4455;\n",
              "      fill: #D2E3FC;\n",
              "    }\n",
              "\n",
              "    [theme=dark] .colab-df-convert:hover {\n",
              "      background-color: #434B5C;\n",
              "      box-shadow: 0px 1px 3px 1px rgba(0, 0, 0, 0.15);\n",
              "      filter: drop-shadow(0px 1px 2px rgba(0, 0, 0, 0.3));\n",
              "      fill: #FFFFFF;\n",
              "    }\n",
              "  </style>\n",
              "\n",
              "    <script>\n",
              "      const buttonEl =\n",
              "        document.querySelector('#df-cd0d0588-aebd-43b8-af43-a5c58e762dbe button.colab-df-convert');\n",
              "      buttonEl.style.display =\n",
              "        google.colab.kernel.accessAllowed ? 'block' : 'none';\n",
              "\n",
              "      async function convertToInteractive(key) {\n",
              "        const element = document.querySelector('#df-cd0d0588-aebd-43b8-af43-a5c58e762dbe');\n",
              "        const dataTable =\n",
              "          await google.colab.kernel.invokeFunction('convertToInteractive',\n",
              "                                                    [key], {});\n",
              "        if (!dataTable) return;\n",
              "\n",
              "        const docLinkHtml = 'Like what you see? Visit the ' +\n",
              "          '<a target=\"_blank\" href=https://colab.research.google.com/notebooks/data_table.ipynb>data table notebook</a>'\n",
              "          + ' to learn more about interactive tables.';\n",
              "        element.innerHTML = '';\n",
              "        dataTable['output_type'] = 'display_data';\n",
              "        await google.colab.output.renderOutput(dataTable, element);\n",
              "        const docLink = document.createElement('div');\n",
              "        docLink.innerHTML = docLinkHtml;\n",
              "        element.appendChild(docLink);\n",
              "      }\n",
              "    </script>\n",
              "  </div>\n",
              "\n",
              "\n",
              "<div id=\"df-29d87758-ff9d-4214-a592-905b4d5399ab\">\n",
              "  <button class=\"colab-df-quickchart\" onclick=\"quickchart('df-29d87758-ff9d-4214-a592-905b4d5399ab')\"\n",
              "            title=\"Suggest charts\"\n",
              "            style=\"display:none;\">\n",
              "\n",
              "<svg xmlns=\"http://www.w3.org/2000/svg\" height=\"24px\"viewBox=\"0 0 24 24\"\n",
              "     width=\"24px\">\n",
              "    <g>\n",
              "        <path d=\"M19 3H5c-1.1 0-2 .9-2 2v14c0 1.1.9 2 2 2h14c1.1 0 2-.9 2-2V5c0-1.1-.9-2-2-2zM9 17H7v-7h2v7zm4 0h-2V7h2v10zm4 0h-2v-4h2v4z\"/>\n",
              "    </g>\n",
              "</svg>\n",
              "  </button>\n",
              "\n",
              "<style>\n",
              "  .colab-df-quickchart {\n",
              "      --bg-color: #E8F0FE;\n",
              "      --fill-color: #1967D2;\n",
              "      --hover-bg-color: #E2EBFA;\n",
              "      --hover-fill-color: #174EA6;\n",
              "      --disabled-fill-color: #AAA;\n",
              "      --disabled-bg-color: #DDD;\n",
              "  }\n",
              "\n",
              "  [theme=dark] .colab-df-quickchart {\n",
              "      --bg-color: #3B4455;\n",
              "      --fill-color: #D2E3FC;\n",
              "      --hover-bg-color: #434B5C;\n",
              "      --hover-fill-color: #FFFFFF;\n",
              "      --disabled-bg-color: #3B4455;\n",
              "      --disabled-fill-color: #666;\n",
              "  }\n",
              "\n",
              "  .colab-df-quickchart {\n",
              "    background-color: var(--bg-color);\n",
              "    border: none;\n",
              "    border-radius: 50%;\n",
              "    cursor: pointer;\n",
              "    display: none;\n",
              "    fill: var(--fill-color);\n",
              "    height: 32px;\n",
              "    padding: 0;\n",
              "    width: 32px;\n",
              "  }\n",
              "\n",
              "  .colab-df-quickchart:hover {\n",
              "    background-color: var(--hover-bg-color);\n",
              "    box-shadow: 0 1px 2px rgba(60, 64, 67, 0.3), 0 1px 3px 1px rgba(60, 64, 67, 0.15);\n",
              "    fill: var(--button-hover-fill-color);\n",
              "  }\n",
              "\n",
              "  .colab-df-quickchart-complete:disabled,\n",
              "  .colab-df-quickchart-complete:disabled:hover {\n",
              "    background-color: var(--disabled-bg-color);\n",
              "    fill: var(--disabled-fill-color);\n",
              "    box-shadow: none;\n",
              "  }\n",
              "\n",
              "  .colab-df-spinner {\n",
              "    border: 2px solid var(--fill-color);\n",
              "    border-color: transparent;\n",
              "    border-bottom-color: var(--fill-color);\n",
              "    animation:\n",
              "      spin 1s steps(1) infinite;\n",
              "  }\n",
              "\n",
              "  @keyframes spin {\n",
              "    0% {\n",
              "      border-color: transparent;\n",
              "      border-bottom-color: var(--fill-color);\n",
              "      border-left-color: var(--fill-color);\n",
              "    }\n",
              "    20% {\n",
              "      border-color: transparent;\n",
              "      border-left-color: var(--fill-color);\n",
              "      border-top-color: var(--fill-color);\n",
              "    }\n",
              "    30% {\n",
              "      border-color: transparent;\n",
              "      border-left-color: var(--fill-color);\n",
              "      border-top-color: var(--fill-color);\n",
              "      border-right-color: var(--fill-color);\n",
              "    }\n",
              "    40% {\n",
              "      border-color: transparent;\n",
              "      border-right-color: var(--fill-color);\n",
              "      border-top-color: var(--fill-color);\n",
              "    }\n",
              "    60% {\n",
              "      border-color: transparent;\n",
              "      border-right-color: var(--fill-color);\n",
              "    }\n",
              "    80% {\n",
              "      border-color: transparent;\n",
              "      border-right-color: var(--fill-color);\n",
              "      border-bottom-color: var(--fill-color);\n",
              "    }\n",
              "    90% {\n",
              "      border-color: transparent;\n",
              "      border-bottom-color: var(--fill-color);\n",
              "    }\n",
              "  }\n",
              "</style>\n",
              "\n",
              "  <script>\n",
              "    async function quickchart(key) {\n",
              "      const quickchartButtonEl =\n",
              "        document.querySelector('#' + key + ' button');\n",
              "      quickchartButtonEl.disabled = true;  // To prevent multiple clicks.\n",
              "      quickchartButtonEl.classList.add('colab-df-spinner');\n",
              "      try {\n",
              "        const charts = await google.colab.kernel.invokeFunction(\n",
              "            'suggestCharts', [key], {});\n",
              "      } catch (error) {\n",
              "        console.error('Error during call to suggestCharts:', error);\n",
              "      }\n",
              "      quickchartButtonEl.classList.remove('colab-df-spinner');\n",
              "      quickchartButtonEl.classList.add('colab-df-quickchart-complete');\n",
              "    }\n",
              "    (() => {\n",
              "      let quickchartButtonEl =\n",
              "        document.querySelector('#df-29d87758-ff9d-4214-a592-905b4d5399ab button');\n",
              "      quickchartButtonEl.style.display =\n",
              "        google.colab.kernel.accessAllowed ? 'block' : 'none';\n",
              "    })();\n",
              "  </script>\n",
              "</div>\n",
              "\n",
              "    </div>\n",
              "  </div>\n"
            ],
            "application/vnd.google.colaboratory.intrinsic+json": {
              "type": "dataframe",
              "summary": "{\n  \"name\": \"display(df\",\n  \"rows\": 5,\n  \"fields\": [\n    {\n      \"column\": \"Month\",\n      \"properties\": {\n        \"dtype\": \"object\",\n        \"num_unique_values\": 5,\n        \"samples\": [\n          \"1949-02\",\n          \"1949-05\",\n          \"1949-03\"\n        ],\n        \"semantic_type\": \"\",\n        \"description\": \"\"\n      }\n    },\n    {\n      \"column\": \"Passengers\",\n      \"properties\": {\n        \"dtype\": \"number\",\n        \"std\": 8,\n        \"min\": 112,\n        \"max\": 132,\n        \"num_unique_values\": 5,\n        \"samples\": [\n          118,\n          121,\n          132\n        ],\n        \"semantic_type\": \"\",\n        \"description\": \"\"\n      }\n    }\n  ]\n}"
            }
          },
          "metadata": {}
        }
      ],
      "source": [
        "import pandas as pd\n",
        "import numpy as np\n",
        "from matplotlib import pyplot as plt\n",
        "\n",
        "# Завантаження даних\n",
        "url = \"https://raw.githubusercontent.com/jbrownlee/Datasets/master/airline-passengers.csv\"\n",
        "df = pd.read_csv(url)\n",
        "df.set_index('Month', inplace=True)\n",
        "display(df.head())"
      ]
    },
    {
      "cell_type": "markdown",
      "source": [
        "**Завдання 1.** Створіть змінну типу `numpy.ndarray`, яка містить значення кількості пасажирів в форматі `float32`. Такий формат даних нам треба для тренування нейромережі."
      ],
      "metadata": {
        "id": "BCcNvF28wSH3"
      }
    },
    {
      "cell_type": "code",
      "source": [
        "passengers = df['Passengers'].values.astype('float32')"
      ],
      "metadata": {
        "id": "7PcJkPAoBOH5"
      },
      "execution_count": 56,
      "outputs": []
    },
    {
      "cell_type": "code",
      "source": [
        "type(passengers)"
      ],
      "metadata": {
        "colab": {
          "base_uri": "https://localhost:8080/"
        },
        "id": "QdALoxsg1KLY",
        "outputId": "d7037744-4426-4a06-cba3-18f17dd51cc2"
      },
      "execution_count": 20,
      "outputs": [
        {
          "output_type": "execute_result",
          "data": {
            "text/plain": [
              "numpy.ndarray"
            ]
          },
          "metadata": {},
          "execution_count": 20
        }
      ]
    },
    {
      "cell_type": "code",
      "source": [
        "passengers[:5]"
      ],
      "metadata": {
        "colab": {
          "base_uri": "https://localhost:8080/"
        },
        "id": "BAp0vX7H1Ss2",
        "outputId": "af1e5efa-8d0f-4435-99cc-6efa6073a33a"
      },
      "execution_count": 57,
      "outputs": [
        {
          "output_type": "execute_result",
          "data": {
            "text/plain": [
              "array([112., 118., 132., 129., 121.], dtype=float32)"
            ]
          },
          "metadata": {},
          "execution_count": 57
        }
      ]
    },
    {
      "cell_type": "markdown",
      "source": [
        "Очікуваний результат:\n",
        "```array([112., 118., 132., 129., 121.], dtype=float32)```"
      ],
      "metadata": {
        "id": "Vms2Pxp1xCrB"
      }
    },
    {
      "cell_type": "markdown",
      "source": [
        "**Завдання 2**. Розбийте дані на тренувальні і валідаційні у співвідношенні 67% йде у тренування, 33 - у валідацію. Памʼятаємо, що ми працюємо з tim series, відповідно, навчаємось на давніших, валідуємось - на новіших."
      ],
      "metadata": {
        "id": "vESTxq-OxLRK"
      }
    },
    {
      "cell_type": "code",
      "source": [
        "train, test = passengers[:int(len(passengers)*0.67)], passengers[int(len(passengers)*0.67):]"
      ],
      "metadata": {
        "id": "USpGte_tBPR1"
      },
      "execution_count": 58,
      "outputs": []
    },
    {
      "cell_type": "markdown",
      "source": [
        "**Завдання 3**.\n",
        "\n",
        "Реалізуйте функцію `create_dataset`, яка перетворить одномірний часовий ряд (набір даних) у формат, придатний для тренування нейромережі.\n",
        "\n",
        "Функція повинна приймати два аргументи:\n",
        "- `dataset` — numpy-масив часового ряду,\n",
        "- `lookback` — кількість попередніх кроків, які використовуватимуться для передбачення.\n",
        "\n",
        "Функція повинна повернути два **тензори** PyTorch:\n",
        "- `X` — набір ознак (вікно попередніх значень),\n",
        "- `y` — цільові значення (наступні після вікна кроки).\n",
        "\n",
        "Дані ми будемо подавати моделі в наступному форматі:\n",
        "`\n",
        "tensor([[112.],\n",
        "        [118.],\n",
        "        [132.],\n",
        "        [129.],\n",
        "        [121.]])\n",
        "`\n",
        "Відповідно першою розмірністю буде йти розмір вхідного батча, а другою - розмір вхіднизх даних і в нас це 1, бо лише одне значення на вході щоразу.\n",
        "\n",
        "Після виконання завдання запустіть код нижче. Ми будемо передбачати на основі кількості пасажирів в попередній день кількість пасажирів в наступний, тому `lookback == 1`."
      ],
      "metadata": {
        "id": "YB-e-vEDx3bn"
      }
    },
    {
      "cell_type": "code",
      "source": [
        "import torch\n",
        "def create_dataset(dataset, lookback):\n",
        "    X, y = [], []\n",
        "\n",
        "    for i in range(len(dataset) - lookback):\n",
        "        window = dataset[i:(i + lookback)]\n",
        "        X.append(window)\n",
        "        target = dataset[i + lookback]\n",
        "        y.append(target)\n",
        "\n",
        "\n",
        "    X = torch.tensor(X).float().unsqueeze(-1)\n",
        "    y = torch.tensor(y).float().unsqueeze(-1)\n",
        "\n",
        "    return X, y\n"
      ],
      "metadata": {
        "id": "s5UXOiAHBVwe"
      },
      "execution_count": 59,
      "outputs": []
    },
    {
      "cell_type": "code",
      "source": [
        "lookback = 1\n",
        "X_train, y_train = create_dataset(train, lookback=lookback)\n",
        "X_test, y_test = create_dataset(test, lookback=lookback)\n",
        "print(X_train.shape, y_train.shape)\n",
        "print(X_test.shape, y_test.shape)"
      ],
      "metadata": {
        "colab": {
          "base_uri": "https://localhost:8080/"
        },
        "id": "dA8FwOfwuPyl",
        "outputId": "bfe7fb14-2e2f-47e3-eb7c-f21c49ae50e9"
      },
      "execution_count": 60,
      "outputs": [
        {
          "output_type": "stream",
          "name": "stdout",
          "text": [
            "torch.Size([95, 1, 1]) torch.Size([95, 1])\n",
            "torch.Size([47, 1, 1]) torch.Size([47, 1])\n"
          ]
        }
      ]
    },
    {
      "cell_type": "markdown",
      "source": [
        "**Спостереження** Я змінила тензори саме на розмірність  torch.Size([95, 1, 1]), а не так як написано в очікуваному результаті, тому що інакше їх не приймала LSTM"
      ],
      "metadata": {
        "id": "E2OVganjJLMD"
      }
    },
    {
      "cell_type": "markdown",
      "source": [
        "Очікуваний результат:\n",
        "```\n",
        "torch.Size([95, 1]) torch.Size([95, 1])\n",
        "torch.Size([47, 1]) torch.Size([47, 1])\n",
        "```"
      ],
      "metadata": {
        "id": "dvEA-D-SzcWf"
      }
    },
    {
      "cell_type": "markdown",
      "source": [
        "**Завдання 4**.\n",
        "\n",
        "Зверніть увагу на розмірності в попередньому завданні. Ми\n",
        "З допомогою модуля `torch.nn` опишіть клас `AirModel`, який є нейронною мережею для прогнозування кількості пасажирів за допомогою LSTM.\n",
        "\n",
        "1. **Конструктор класу** повинен приймати параметри `hidden_size`, `num_layers` та ініціювати шари:\n",
        "   - LSTM-шар з наступними параметрами:\n",
        "     - `input_size` — кожна точка часового ряду є окремим входом,,\n",
        "     - `hidden_size` — заданий в конструкторі класу мережі,\n",
        "     - `num_layers=1` — кількість шарів LSTM, задана в конструкторі мережі,\n",
        "     - `batch_first=True` — визначає, що першим виміром є розмір батчу.\n",
        "   - Лінійний шар (`nn.Linear`) для перетворення виходу LSTM на прогноз однієї точки.\n",
        "\n",
        "2. **Метод forward** повинен виконувати наступні дії:\n",
        "   - Передати вхідний тензор через LSTM-шар і отримати виходи (ігноруючи приховані стани).\n",
        "   - Пропустити вихід LSTM через лінійний шар для отримання остаточного прогнозу.\n",
        "\n",
        "Створіть об'єкт класу `AirModel` зі значеннями параметрів `hidden_size=50`, `num_layers=1` і протестуйте роботу моделі на вхідному тензорі `tensor([[112.]])`. На цьому етапі ми маємо переконатись, що модель здатна генерувати передбачення з рандомно ініційованими вагами."
      ],
      "metadata": {
        "id": "eeiFJ-jDznj5"
      }
    },
    {
      "cell_type": "code",
      "source": [
        "import torch.nn as nn\n",
        "\n",
        "class AirModel(nn.Module):\n",
        "    def __init__(self, hidden_size, num_layers, input_size=1):\n",
        "        super(AirModel, self).__init__()\n",
        "        self.hidden_syze = hidden_size\n",
        "        self.num_layers = num_layers\n",
        "\n",
        "\n",
        "        self.lstm = nn.LSTM(input_size, hidden_size, num_layers=1, batch_first=True)\n",
        "\n",
        "        self.fc = nn.Linear(hidden_size, 1)\n",
        "\n",
        "    def forward(self, x):\n",
        "        out, _ = self.lstm(x)\n",
        "        out = self.fc(out[:, -1, :])\n",
        "        return out\n",
        "\n",
        "\n",
        "\n",
        "# Створюємо модель зі значеннями hidden_size=50, num_layers=1\n",
        "model = AirModel( hidden_size=50, num_layers=1)\n"
      ],
      "metadata": {
        "id": "dcafrsmrDHsz"
      },
      "execution_count": 83,
      "outputs": []
    },
    {
      "cell_type": "code",
      "source": [
        "input_tensor = torch.tensor([[112.]], dtype=torch.float32).unsqueeze(0)\n",
        "model(input_tensor)"
      ],
      "metadata": {
        "colab": {
          "base_uri": "https://localhost:8080/"
        },
        "id": "rxvlYQypCSyz",
        "outputId": "bcae81d2-e5d2-401a-bb12-b41175352a3f"
      },
      "execution_count": 62,
      "outputs": [
        {
          "output_type": "execute_result",
          "data": {
            "text/plain": [
              "tensor([[-0.4857]], grad_fn=<AddmmBackward0>)"
            ]
          },
          "metadata": {},
          "execution_count": 62
        }
      ]
    },
    {
      "cell_type": "markdown",
      "source": [
        "**Завдання 5**.\n",
        "\n",
        "Створіть об'єкт DataLoader для завантаження даних, використовуючи тренувальні вибірки `X_train` та `y_train`. Ваш DataLoader повинен виконувати наступні вимоги:\n",
        "\n",
        "1. Використовувати клас `TensorDataset`, щоб об'єднати тензори ознак `X_train` і цільових значень `y_train`.\n",
        "2. Дані повинні завантажуватися невеликими батчами розміром 8 за допомогою параметра `batch_size`.\n",
        "3. Використовувати параметр `shuffle=True`, щоб дані перемішувалися перед кожною епохою тренування.\n"
      ],
      "metadata": {
        "id": "-R6zv9nu2tWB"
      }
    },
    {
      "cell_type": "code",
      "source": [
        "from torch.utils.data import TensorDataset, DataLoader\n",
        "\n",
        "train_dataset = TensorDataset(X_train, y_train.view(-1, 1))\n",
        "\n",
        "train_loader = DataLoader(dataset=train_dataset,\n",
        "                          batch_size=8,\n",
        "                          shuffle=True)\n"
      ],
      "metadata": {
        "id": "WKdkptY7DMAc"
      },
      "execution_count": 77,
      "outputs": []
    },
    {
      "cell_type": "code",
      "source": [
        "test_dataset = TensorDataset(X_test, y_test.view(-1, 1))\n",
        "\n",
        "test_loader = DataLoader(dataset=test_dataset,\n",
        "                          batch_size=8,\n",
        "                          shuffle=True)"
      ],
      "metadata": {
        "id": "dbcg-wGwFYy7"
      },
      "execution_count": 78,
      "outputs": []
    },
    {
      "cell_type": "markdown",
      "source": [
        "**Завдання 6**.\n",
        "\n",
        "1. Реалізуйте навчання нейронної мережі `AirModel` для прогнозування часових рядів, використовуючи Adam-оптимізатор та функцію втрат MSE (середньоквадратичну похибку).\n",
        "2. Створіть цикл тренування для 2000 епох, у якому на кожній епосі:\n",
        "   - Виконуйте крок тренування моделі (прямий прохід, обчислення похибки, зворотний прохід і оновлення ваг).\n",
        "   - Підраховуйте середню похибку на кожному батчі даних і зберігайте її у списку `losses`.\n",
        "3. Раз на 100 епох проводьте валідацію моделі:\n",
        "   - Перевіряйте модель на тренувальних та тестових даних без оновлення ваг.\n",
        "   - Обчислюйте корінь середньоквадратичної похибки (RMSE) для тренувальної та тестової вибірок і виводьте результати на екран.\n",
        "   \n",
        "**Примітка:**\n",
        "- Використовуйте вже створений `DataLoader` для отримання батчів даних.\n",
        "- Валідацію виконуйте в режимі `eval()`, вимикаючи обчислення градієнтів з `torch.no_grad()`.\n",
        "\n",
        "**Приклад виходу:**\n",
        "```\n",
        "Epoch 0: train RMSE 12.3456, test RMSE 15.6789\n",
        "Epoch 100: train RMSE 9.8765, test RMSE 12.3456\n",
        "...\n",
        "```"
      ],
      "metadata": {
        "id": "6ZaGh7IF2nfT"
      }
    },
    {
      "cell_type": "code",
      "source": [
        "import torch.optim as optim\n",
        "def train(model):\n",
        "  optimizer = optim.Adam(model.parameters(), lr=0.001)\n",
        "\n",
        "  criterion = nn.MSELoss()\n",
        "\n",
        "  num_epochs = 2000\n",
        "  losses = []\n",
        "\n",
        "\n",
        "  for epoch in range(num_epochs):\n",
        "      model.train()\n",
        "      running_loss = 0.0\n",
        "\n",
        "      for batch_X, batch_y in train_loader:\n",
        "          optimizer.zero_grad()\n",
        "\n",
        "          batch_y = batch_y.unsqueeze(1)\n",
        "\n",
        "\n",
        "          outputs = model(batch_X)\n",
        "\n",
        "          loss = criterion(outputs, batch_y)\n",
        "\n",
        "          loss.backward()\n",
        "\n",
        "          optimizer.step()\n",
        "\n",
        "          running_loss += loss.item()\n",
        "\n",
        "      epoch_loss = running_loss / len(train_loader)\n",
        "      losses.append(epoch_loss)\n",
        "\n",
        "      if (epoch + 1) % 100 == 0:\n",
        "          model.eval()\n",
        "          train_rmse, test_rmse = 0.0, 0.0\n",
        "\n",
        "\n",
        "          with torch.no_grad():\n",
        "              train_loss = 0.0\n",
        "              for batch_X, batch_y in train_loader:\n",
        "                  batch_y = batch_y.unsqueeze(1)\n",
        "                  outputs = model(batch_X)\n",
        "                  loss = criterion(outputs, batch_y)\n",
        "                  train_loss += loss.item()\n",
        "              train_rmse = np.sqrt(train_loss / len(train_loader))\n",
        "\n",
        "\n",
        "          with torch.no_grad():\n",
        "              test_loss = 0.0\n",
        "              for batch_X, batch_y in test_loader:\n",
        "                  batch_y = batch_y.unsqueeze(1)\n",
        "                  outputs = model(batch_X)\n",
        "                  loss = criterion(outputs, batch_y)\n",
        "                  test_loss += loss.item()\n",
        "              test_rmse = np.sqrt(test_loss / len(test_loader))\n",
        "\n",
        "          print(f'Epoch [{epoch+1}/{num_epochs}], Loss: {epoch_loss:.4f}, '\n",
        "                f'Train RMSE: {train_rmse:.4f}, Test RMSE: {test_rmse:.4f}')\n",
        "  return losses"
      ],
      "metadata": {
        "id": "DqBp9zccFDky"
      },
      "execution_count": 74,
      "outputs": []
    },
    {
      "cell_type": "code",
      "source": [
        "losses = train(model)"
      ],
      "metadata": {
        "colab": {
          "base_uri": "https://localhost:8080/"
        },
        "id": "yNz7pLoSNWHF",
        "outputId": "31909735-7357-4950-a421-4581d729e3a8"
      },
      "execution_count": 84,
      "outputs": [
        {
          "output_type": "stream",
          "name": "stderr",
          "text": [
            "/usr/local/lib/python3.10/dist-packages/torch/nn/modules/loss.py:608: UserWarning: Using a target size (torch.Size([8, 1, 1])) that is different to the input size (torch.Size([8, 1])). This will likely lead to incorrect results due to broadcasting. Please ensure they have the same size.\n",
            "  return F.mse_loss(input, target, reduction=self.reduction)\n",
            "/usr/local/lib/python3.10/dist-packages/torch/nn/modules/loss.py:608: UserWarning: Using a target size (torch.Size([7, 1, 1])) that is different to the input size (torch.Size([7, 1])). This will likely lead to incorrect results due to broadcasting. Please ensure they have the same size.\n",
            "  return F.mse_loss(input, target, reduction=self.reduction)\n"
          ]
        },
        {
          "output_type": "stream",
          "name": "stdout",
          "text": [
            "Epoch [100/2000], Loss: 34209.2542, Train RMSE: 184.5892, Test RMSE: 378.7306\n",
            "Epoch [200/2000], Loss: 22758.4025, Train RMSE: 150.3804, Test RMSE: 342.3187\n",
            "Epoch [300/2000], Loss: 14804.4794, Train RMSE: 121.5556, Test RMSE: 308.0294\n",
            "Epoch [400/2000], Loss: 9738.8995, Train RMSE: 98.1311, Test RMSE: 278.9155\n",
            "Epoch [500/2000], Loss: 6790.5094, Train RMSE: 82.3456, Test RMSE: 254.0296\n",
            "Epoch [600/2000], Loss: 5514.7142, Train RMSE: 74.3595, Test RMSE: 234.3191\n",
            "Epoch [700/2000], Loss: 5100.7984, Train RMSE: 71.4298, Test RMSE: 222.2620\n",
            "Epoch [800/2000], Loss: 5106.5145, Train RMSE: 71.1870, Test RMSE: 217.3757\n",
            "Epoch [900/2000], Loss: 5059.2809, Train RMSE: 70.9941, Test RMSE: 214.1394\n",
            "Epoch [1000/2000], Loss: 5019.3740, Train RMSE: 70.9221, Test RMSE: 212.4338\n",
            "Epoch [1100/2000], Loss: 5020.6111, Train RMSE: 70.4844, Test RMSE: 211.5475\n",
            "Epoch [1200/2000], Loss: 5020.7879, Train RMSE: 71.1122, Test RMSE: 209.4100\n",
            "Epoch [1300/2000], Loss: 5011.6453, Train RMSE: 70.5322, Test RMSE: 208.8020\n",
            "Epoch [1400/2000], Loss: 5049.7713, Train RMSE: 70.6152, Test RMSE: 208.7249\n",
            "Epoch [1500/2000], Loss: 5000.8836, Train RMSE: 71.5590, Test RMSE: 208.7855\n",
            "Epoch [1600/2000], Loss: 5004.7728, Train RMSE: 70.9783, Test RMSE: 207.2413\n",
            "Epoch [1700/2000], Loss: 5040.8878, Train RMSE: 70.6050, Test RMSE: 206.8364\n",
            "Epoch [1800/2000], Loss: 4960.2135, Train RMSE: 70.9874, Test RMSE: 207.0807\n",
            "Epoch [1900/2000], Loss: 5003.7371, Train RMSE: 70.8695, Test RMSE: 206.4786\n",
            "Epoch [2000/2000], Loss: 5060.3542, Train RMSE: 70.5978, Test RMSE: 207.5240\n"
          ]
        }
      ]
    },
    {
      "cell_type": "markdown",
      "source": [
        "**Завдання 7.** Побудуйте графік лосів. Зробіть висновок з графіку, чи навчилась модель?"
      ],
      "metadata": {
        "id": "m0sIo4kp5X_s"
      }
    },
    {
      "cell_type": "code",
      "source": [
        "import matplotlib.pyplot as plt\n",
        "import matplotlib.ticker as ticker\n",
        "\n",
        "plt.plot(losses);"
      ],
      "metadata": {
        "id": "AS2USLRq76up",
        "colab": {
          "base_uri": "https://localhost:8080/",
          "height": 430
        },
        "outputId": "6d6fea15-058c-41d2-ea88-5322fc1cc76e"
      },
      "execution_count": 85,
      "outputs": [
        {
          "output_type": "display_data",
          "data": {
            "text/plain": [
              "<Figure size 640x480 with 1 Axes>"
            ],
            "image/png": "[encoded data removed]"
          },
          "metadata": {}
        }
      ]
    },
    {
      "cell_type": "markdown",
      "source": [
        "**Спостереження** Дивлячись на графік можна сказати, що модель навчилась, але дивлячись на RMSE на кожній 100 епосі ми бачимо, що воно доволі високе і можна сказати, що модель працює не точно"
      ],
      "metadata": {
        "id": "EYdeLKd-MvB7"
      }
    },
    {
      "cell_type": "markdown",
      "source": [
        "Модель навчилась, але не факт, що точно)"
      ],
      "metadata": {
        "id": "8eBoUQVB5p0h"
      }
    },
    {
      "cell_type": "markdown",
      "source": [
        "Доволі неочікувано, що середньоквадратичне відхилення тестового набору даних буде на порядок більшим за одиниці в нашому наборі даних. Середньоквадратичне відхилення 100 означає, що прогноз і фактичне значення будуть відрізнятися в середньому на 100 (тобто, 100 000 пасажирів у цьому наборі даних).\n",
        "\n"
      ],
      "metadata": {
        "id": "-vCiGfQw7sEK"
      }
    },
    {
      "cell_type": "markdown",
      "source": [
        "Щоб краще зрозуміти якість прогнозу, ви можете побудувати графік з кодом нижче (а ще нижче - описано, що відбувається в цьому коді, бо це теж корисно зрозуміти):"
      ],
      "metadata": {
        "id": "bgtO7NZh77vU"
      }
    },
    {
      "cell_type": "code",
      "source": [
        "def plot_predicts():\n",
        "  with torch.no_grad():\n",
        "      # Зсув прогнозів для тренувальних даних\n",
        "      train_plot = np.ones_like(passengers) * np.nan\n",
        "      y_pred = model(X_train)\n",
        "      y_pred = y_pred[:, -1]\n",
        "      train_plot[lookback:len(train)] = model(X_train)[:, -1]\n",
        "\n",
        "      # Зсув прогнозів для тестових даних\n",
        "      test_plot = np.ones_like(passengers) * np.nan\n",
        "      test_plot[len(train)+lookback:len(passengers)] = model(X_test)[:, -1]\n",
        "\n",
        "  # Візуалізація результатів\n",
        "  plt.plot(passengers, c='b')  # Реальні дані\n",
        "  plt.plot(train_plot, c='r')  # Прогнози на тренувальних даних\n",
        "  plt.plot(test_plot, c='g')   # Прогнози на тестових даних\n",
        "  plt.show()\n",
        "\n",
        "plot_predicts()"
      ],
      "metadata": {
        "id": "ZznU2AK0vES5",
        "colab": {
          "base_uri": "https://localhost:8080/",
          "height": 430
        },
        "outputId": "c08e8628-5188-4582-d56f-bb0618d3c763"
      },
      "execution_count": 70,
      "outputs": [
        {
          "output_type": "display_data",
          "data": {
            "text/plain": [
              "<Figure size 640x480 with 1 Axes>"
            ],
            "image/png": "[encoded data removed]"
          },
          "metadata": {}
        }
      ]
    },
    {
      "cell_type": "markdown",
      "source": [
        "**Що відбувається в коді вище.** В цьому коді здійснюється процес прогнозування часових рядів за допомогою LSTM моделі, а також виведення графіку, який показує реальні значення, тренувальні та тестові прогнози. Ось що відбувається на кожному етапі:\n",
        "\n",
        "1. **`torch.no_grad()`**: Цей контекстний менеджер вимикає обчислення градієнтів, що означає, що під час прогнозування не будуть зберігатися проміжні обчислення для зворотного проходу (backpropagation). Це підвищує ефективність під час прогнозування і зменшує використання пам'яті.\n",
        "\n",
        "2. **Зсув прогнозів для тренувальних даних:**\n",
        "   - Створюється масив `train_plot`, який має такий самий розмір, як і часовий ряд (`timeseries`), і заповнюється значеннями NaN (`np.nan`), щоб залишити місце для реальних значень.\n",
        "   - Модель передбачає виходи для тренувальних даних `X_train`.\n",
        "   - Використовується лише останнє передбачене значення для кожного входу LSTM (`y_pred[:, -1]`).\n",
        "   - Прогнози зсуваються, починаючи з індексу `lookback` до кінця тренувальних даних (індекс `train_size`). Цей зсув потрібен, щоб зробити прогноз на основі попередніх даних і відобразити його на правильній частині графіку.\n",
        "\n",
        "3. **Зсув прогнозів для тестових даних:**\n",
        "   - Створюється масив `test_plot`, який також заповнюється NaN.\n",
        "   - Прогнози для тестових даних додаються з індексу `train_size + lookback` до кінця реальних даних, щоб відобразити, де модель починає прогнозувати тестову вибірку.\n",
        "\n",
        "4. **Побудова графіка:**\n",
        "   - `plt.plot(timeseries, c='b')`: Виводить реальні значення часового ряду (синя лінія).\n",
        "   - `plt.plot(train_plot, c='r')`: Виводить тренувальні прогнози (червона лінія).\n",
        "   - `plt.plot(test_plot, c='g')`: Виводить тестові прогнози (зелена лінія).\n",
        "\n",
        "**Чому це робиться:**\n",
        "- Зсув прогнозів для тренувальних і тестових даних дозволяє візуально зрівняти, наскільки добре модель прогнозує як на тренувальній, так і на тестовій вибірках. Зазвичай, червона лінія (тренувальні прогнози) повинна точно відповідати синій лінії (реальні дані), а зелена лінія (тестові прогнози) дає змогу побачити, наскільки модель добре працює на нових даних, яких вона раніше не бачила."
      ],
      "metadata": {
        "id": "ahPW3iiJDg1R"
      }
    },
    {
      "cell_type": "markdown",
      "source": [
        "**Завдання 8**. Навчіть модель з hidden_size=100 та порівняйте результати прогнозів з попередніми."
      ],
      "metadata": {
        "id": "PhoeHLus-xIr"
      }
    },
    {
      "cell_type": "code",
      "source": [
        "model = AirModel( hidden_size=100, num_layers=1)"
      ],
      "metadata": {
        "id": "92032N_E_PxY"
      },
      "execution_count": 79,
      "outputs": []
    },
    {
      "cell_type": "code",
      "source": [
        "losses = train(model)"
      ],
      "metadata": {
        "colab": {
          "base_uri": "https://localhost:8080/"
        },
        "id": "dDt0HExzLAkr",
        "outputId": "7e7ec1db-4911-47e8-d563-b92948b15be8"
      },
      "execution_count": 80,
      "outputs": [
        {
          "output_type": "stream",
          "name": "stdout",
          "text": [
            "Epoch [100/2000], Loss: 21737.2463, Train RMSE: 146.9809, Test RMSE: 338.3910\n",
            "Epoch [200/2000], Loss: 9597.4222, Train RMSE: 97.6316, Test RMSE: 279.5087\n",
            "Epoch [300/2000], Loss: 5802.1375, Train RMSE: 75.4422, Test RMSE: 240.2617\n",
            "Epoch [400/2000], Loss: 5075.9145, Train RMSE: 71.3918, Test RMSE: 219.6069\n",
            "Epoch [500/2000], Loss: 5073.7714, Train RMSE: 71.1406, Test RMSE: 215.6169\n",
            "Epoch [600/2000], Loss: 5017.1519, Train RMSE: 70.9349, Test RMSE: 216.9072\n",
            "Epoch [700/2000], Loss: 5050.2251, Train RMSE: 70.4201, Test RMSE: 212.5643\n",
            "Epoch [800/2000], Loss: 5005.4476, Train RMSE: 70.9051, Test RMSE: 210.0171\n",
            "Epoch [900/2000], Loss: 5012.7178, Train RMSE: 71.3024, Test RMSE: 209.3374\n",
            "Epoch [1000/2000], Loss: 4967.7262, Train RMSE: 70.7082, Test RMSE: 209.9690\n",
            "Epoch [1100/2000], Loss: 5099.2936, Train RMSE: 70.6157, Test RMSE: 208.4903\n",
            "Epoch [1200/2000], Loss: 5040.3157, Train RMSE: 70.8610, Test RMSE: 207.6552\n",
            "Epoch [1300/2000], Loss: 5058.3497, Train RMSE: 71.3611, Test RMSE: 208.7205\n",
            "Epoch [1400/2000], Loss: 4929.2072, Train RMSE: 70.7522, Test RMSE: 207.2153\n",
            "Epoch [1500/2000], Loss: 5028.1055, Train RMSE: 70.4228, Test RMSE: 206.4598\n",
            "Epoch [1600/2000], Loss: 5052.7576, Train RMSE: 71.0498, Test RMSE: 207.7366\n",
            "Epoch [1700/2000], Loss: 5059.2913, Train RMSE: 71.1271, Test RMSE: 207.4966\n",
            "Epoch [1800/2000], Loss: 5009.2711, Train RMSE: 70.9066, Test RMSE: 206.9528\n",
            "Epoch [1900/2000], Loss: 4900.6640, Train RMSE: 70.8411, Test RMSE: 208.0470\n",
            "Epoch [2000/2000], Loss: 4972.1655, Train RMSE: 70.4054, Test RMSE: 206.1717\n"
          ]
        }
      ]
    },
    {
      "cell_type": "code",
      "source": [
        "plt.plot(losses);"
      ],
      "metadata": {
        "colab": {
          "base_uri": "https://localhost:8080/",
          "height": 430
        },
        "id": "8GqcQqwnLdY8",
        "outputId": "f368e4ba-b376-48f8-ca53-d43f58e538cc"
      },
      "execution_count": 82,
      "outputs": [
        {
          "output_type": "display_data",
          "data": {
            "text/plain": [
              "<Figure size 640x480 with 1 Axes>"
            ],
            "image/png": "[encoded data removed]"
          },
          "metadata": {}
        }
      ]
    },
    {
      "cell_type": "markdown",
      "source": [
        "**Спостереження** модель натренувалась, але значення RMSE все ще високі і у тестувального набору RMSE набагато вище, що говорить про  оверфітинг"
      ],
      "metadata": {
        "id": "mgF15UBLNwno"
      }
    },
    {
      "cell_type": "code",
      "source": [],
      "metadata": {
        "id": "rxznEZrhN95r"
      },
      "execution_count": null,
      "outputs": []
    }
  ]
}